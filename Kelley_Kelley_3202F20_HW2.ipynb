{
 "cells": [
  {
   "cell_type": "markdown",
   "metadata": {},
   "source": [
    "## <a id='top'></a>\n",
    "\n",
    "# CSCI 3202, Fall 2020\n",
    "# Assignment 2\n",
    "# Due: Friday 25 September 2020 by 11:59 PM\n",
    "\n",
    "<br> \n",
    "\n",
    "### Your name: Kelley Kelley\n",
    "\n",
    "<br> "
   ]
  },
  {
   "attachments": {
    "image.png": {
     "image/png": "[encoded data removed]"
    }
   },
   "cell_type": "markdown",
   "metadata": {},
   "source": [
    "## Problem 1 (15 points)\n",
    "\n",
    "Consider the directed state space graph below.\n",
    "\n",
    "![image.png](attachment:image.png)\n",
    "\n",
    "Suppose we wish to find the shortest edge-length path from the start node `S` to the goal node `G`.  Additionally, we have access to the heuristic of \"straight line distance from the given node to `G`.\"\n",
    "\n",
    "\n",
    "For each of the following search algorithms, what is the full route chosen from `S` to `G`?  For any algorithms that require an order by which to choose/queue equivalent nodes, assume that we open nodes alphabetically.\n",
    "\n",
    "#### 1a) Breadth-First Search"
   ]
  },
  {
   "cell_type": "markdown",
   "metadata": {},
   "source": [
    "$ S \\rightarrow B \\rightarrow H \\rightarrow G $"
   ]
  },
  {
   "cell_type": "markdown",
   "metadata": {},
   "source": [
    "#### 1b) Depth-First Search"
   ]
  },
  {
   "cell_type": "markdown",
   "metadata": {},
   "source": [
    "$ S \\rightarrow A \\rightarrow F \\rightarrow J \\rightarrow I \\rightarrow E \\rightarrow D \\rightarrow C \\rightarrow B \\rightarrow H \\rightarrow G $"
   ]
  },
  {
   "cell_type": "markdown",
   "metadata": {},
   "source": [
    "#### 1c) Greedy Best-First, with straight-line-distance heuristic\n"
   ]
  },
  {
   "cell_type": "markdown",
   "metadata": {},
   "source": [
    "$S \\rightarrow A \\rightarrow F \\rightarrow J \\rightarrow I \\rightarrow F \\rightarrow J $ repeating $ I \\rightarrow F \\rightarrow J$"
   ]
  },
  {
   "cell_type": "markdown",
   "metadata": {},
   "source": [
    "#### 1d) A$^*$, with straight-line-distance heuristic\n"
   ]
  },
  {
   "cell_type": "markdown",
   "metadata": {},
   "source": [
    "$ S \\rightarrow B \\rightarrow H \\rightarrow G $"
   ]
  },
  {
   "cell_type": "markdown",
   "metadata": {},
   "source": [
    "#### 1e) Describe what properties of this graph may or may not have led to different paths from the algorithms above."
   ]
  },
  {
   "cell_type": "markdown",
   "metadata": {},
   "source": [
    "Some paths that move toward the goal in a straight line can't actually reach the goal without going all the way back to the beginning. Therefore just going straight toward the goal doesn't produce an optimal solution and causes you to need to go all the way around the graph. There's also a large number of nodes between the goal and the start in the straight line path which means if searching BFS you get to the goal much quicker since there are many less nodes on the path that isn't in a straight line toward the goal."
   ]
  },
  {
   "cell_type": "markdown",
   "metadata": {},
   "source": [
    "\n",
    "\n",
    "## Problem 2 (30 points)\n",
    "\n",
    "### Escape from Chicago\n",
    "\n",
    "It is the year 2030 and a freak earthquake has caused Chicago to break off from the mainland of Illinois. It has drifted out into Lake Michigan and is now used as a penal colony for the United States' worst criminals.  Snake Plisskin, world-famous tough guy and amateur sea lion enthusiast, must travel from Chicago to New York to find the antidote to the *Plutoxin 7 poison* that he and many other Chicagoans have been infected with.\n",
    "\n",
    "Below are crude graphs, representing the northeastern United States.  The graph on the left, **map_distances**, represents the step costs between two states on the graph (cities) using the distance between the two cities along major highways.  On the right, **map_times** represents the step costs using estimated travel time (at 5 PM on a Friday, east coast time).  These graphs are defined in the helper routines at below.\n",
    "\n",
    "If you take a look at those graphs, you will notice that for brevity's sake, we will use **lowercase** abbreviations for each city, consisting of the **first 3 letters** of the city's name.  So Providence is represented by the state 'pro', for example.\n",
    "\n"
   ]
  },
  {
   "cell_type": "code",
   "execution_count": 1,
   "metadata": {},
   "outputs": [],
   "source": [
    "import numpy as np\n",
    "import matplotlib.pyplot as plt\n",
    "from matplotlib import colors\n",
    "from collections import deque\n",
    "import heapq\n",
    "import unittest\n",
    "from scipy import stats"
   ]
  },
  {
   "cell_type": "markdown",
   "metadata": {},
   "source": [
    "**map_distances**          |  **map_times**\n",
    ":-------------------------:|:-------------------------:\n",
    "<img src=\"http://drive.google.com/uc?export=view&id=1j6Kam3F7ET-aIzT-6KMxaW7D7r8WAOME\" alt=\"Drawing\" style=\"width: 550px;\"/>  | <img src=\"http://drive.google.com/uc?export=view&id=1rI5w8CuWOS9reMIewc2IDBp_Z3pSUu1H\" alt=\"Drawing\" style=\"width: 550px;\"/>"
   ]
  },
  {
   "cell_type": "markdown",
   "metadata": {},
   "source": [
    "### Useful helper routines for searching"
   ]
  },
  {
   "cell_type": "code",
   "execution_count": 2,
   "metadata": {},
   "outputs": [],
   "source": [
    "def path(previous, s): \n",
    "    '''\n",
    "    `previous` is a dictionary chaining together the predecessor state that led to each state\n",
    "    `s` will be None for the initial state\n",
    "    otherwise, start from the last state `s` and recursively trace `previous` back to the initial state,\n",
    "    constructing a list of states visited as we go\n",
    "    '''\n",
    "    if s is None:\n",
    "        return []\n",
    "    else:\n",
    "        return path(previous, previous[s])+[s]\n",
    "\n",
    "def pathcost(path, step_costs):\n",
    "    '''\n",
    "    add up the step costs along a path, which is assumed to be a list output from the `path` function above\n",
    "    '''\n",
    "    cost = 0\n",
    "    for s in range(len(path)-1):\n",
    "        cost += step_costs[path[s]][path[s+1]]\n",
    "    return cost"
   ]
  },
  {
   "cell_type": "code",
   "execution_count": 1,
   "metadata": {},
   "outputs": [
    {
     "name": "stdout",
     "output_type": "stream",
     "text": [
      "{'chi': {'det': 283, 'cle': 345, 'ind': 182}, 'cle': {'chi': 345, 'det': 169, 'col': 144, 'pit': 134, 'buf': 189}, 'ind': {'chi': 182, 'col': 176}, 'col': {'ind': 176, 'cle': 144, 'pit': 185}, 'det': {'chi': 283, 'cle': 169, 'buf': 256}, 'buf': {'det': 256, 'cle': 189, 'pit': 215, 'syr': 150}, 'pit': {'col': 185, 'cle': 134, 'buf': 215, 'phi': 305, 'bal': 247}, 'syr': {'buf': 150, 'phi': 253, 'new': 254, 'bos': 312}, 'bal': {'phi': 101, 'pit': 247}, 'phi': {'pit': 305, 'bal': 101, 'syr': 253, 'new': 97}, 'new': {'syr': 254, 'phi': 97, 'bos': 215, 'pro': 181}, 'pro': {'bos': 50, 'new': 181}, 'bos': {'pro': 50, 'new': 215, 'syr': 312, 'por': 107}, 'por': {'bos': 107}}\n"
     ]
    }
   ],
   "source": [
    "map_distances = dict(\n",
    "    chi=dict(det=283, cle=345, ind=182),\n",
    "    cle=dict(chi=345, det=169, col=144, pit=134, buf=189),\n",
    "    ind=dict(chi=182, col=176),\n",
    "    col=dict(ind=176, cle=144, pit=185),\n",
    "    det=dict(chi=283, cle=169, buf=256),\n",
    "    buf=dict(det=256, cle=189, pit=215, syr=150),\n",
    "    pit=dict(col=185, cle=134, buf=215, phi=305, bal=247),\n",
    "    syr=dict(buf=150, phi=253, new=254, bos=312),\n",
    "    bal=dict(phi=101, pit=247),\n",
    "    phi=dict(pit=305, bal=101, syr=253, new=97),\n",
    "    new=dict(syr=254, phi=97, bos=215, pro=181),\n",
    "    pro=dict(bos=50, new=181),\n",
    "    bos=dict(pro=50, new=215, syr=312, por=107),\n",
    "    por=dict(bos=107))\n",
    "\n",
    "map_times = dict(\n",
    "    chi=dict(det=280, cle=345, ind=200),\n",
    "    cle=dict(chi=345, det=170, col=155, pit=145, buf=185),\n",
    "    ind=dict(chi=200, col=175),\n",
    "    col=dict(ind=175, cle=155, pit=185),\n",
    "    det=dict(chi=280, cle=170, buf=270),\n",
    "    buf=dict(det=270, cle=185, pit=215, syr=145),\n",
    "    pit=dict(col=185, cle=145, buf=215, phi=305, bal=255),\n",
    "    syr=dict(buf=145, phi=245, new=260, bos=290),\n",
    "    bal=dict(phi=145, pit=255),\n",
    "    phi=dict(pit=305, bal=145, syr=245, new=150),\n",
    "    new=dict(syr=260, phi=150, bos=270, pro=260),\n",
    "    pro=dict(bos=90, new=260),\n",
    "    bos=dict(pro=90, new=270, syr=290, por=120),\n",
    "    por=dict(bos=120))\n",
    "\n",
    "sld_providence = dict(\n",
    "    chi=833,\n",
    "    cle=531,\n",
    "    ind=782,\n",
    "    col=618,\n",
    "    det=596,\n",
    "    buf=385,\n",
    "    pit=458,\n",
    "    syr=253,\n",
    "    bal=325,\n",
    "    phi=236,\n",
    "    new=157,\n",
    "    pro=0,\n",
    "    bos=38,\n",
    "    por=136)\n",
    "\n",
    "print(map_distances)\n",
    "\n",
    "def check_map(step_costs):\n",
    "    ''' function to check if all the path costs are at least symmetric '''\n",
    "    check_states = []\n",
    "    for state1 in step_costs.keys():\n",
    "        for state2 in step_costs[state1].keys():\n",
    "            uh_oh = step_costs[state2][state1]!=step_costs[state1][state2]\n",
    "            if uh_oh:\n",
    "                print('Check the costs between states {} and {}'.format(state1,state2))\n",
    "                check_states.append([state1,state2])\n",
    "    if len(check_states)==0:\n",
    "        print('all okay! (symmetric at least)')\n",
    "    return check_states"
   ]
  },
  {
   "cell_type": "markdown",
   "metadata": {},
   "source": [
    "<a id='p1a'></a>\n",
    "### (2a)\n",
    "\n",
    "#### Breadth-first search\n",
    "\n",
    "Implement a function **breadth_first(start, goal, state_graph, return_cost)** to search the state space (and step costs) defined by **state_graph** using breadth-first search:\n",
    "* **start**: initial state (e.g., 'ind')\n",
    "* **end**: goal state (e.g., 'bos')\n",
    "* **state_graph**: the dictionary defining the step costs (e.g., `map_distances`)\n",
    "* **return_cost**: logical input representing whether or not to return the solution path cost\n",
    "  * If **True**, then the output should be a tuple where the first value is the list representing the solution path and the second value is the path cost\n",
    "  * If **False**, then the only output is the solution path list object\n",
    "\n",
    "Note that in the helper functions, two useful routines for obtaining your solution path are provided (and can be used for all the search algorithms):\n",
    "  * **path(previous, s)**: returns a list representing a path to state **s**, where **previous** is a dictionary that maps predecessors (values) to successors (keys)\n",
    "  * **pathcost(path, step_costs)**: adds up the step costs defined by the **step_costs** graph (e.g., `map_distances`) along the list of states **path**"
   ]
  },
  {
   "cell_type": "code",
   "execution_count": 4,
   "metadata": {},
   "outputs": [],
   "source": [
    "'''# few tests to make sure I remember how dictionaries work\n",
    "print(map_distances['chi'])\n",
    "print(map_distances['chi']['det'])\n",
    "for i in map_distances['chi']:\n",
    "    print(i, map_distances['chi'][i])\n",
    "print(min(map_distances['chi'].values()))\n",
    "'''\n",
    "# path({'A':None, 'B':'A', 'C':'B'}, 'C') that took way too long to figure out and I don't get the point of it tbh\n",
    "# holy crap path is fantastic and so nice woah, big brain\n",
    "# while implementing BFS I realized how you use it :) so nice\n",
    "\n",
    "# breadth first search implementation\n",
    "def breadth_first(start, goal, state_graph, return_cost):\n",
    "    if goal not in state_graph or start not in state_graph:\n",
    "        return \"Error\"\n",
    "    # this is a list of nodes we have explored\n",
    "    explored = []\n",
    "    # this is the list of paths we need to explore\n",
    "    explore = [start]\n",
    "    # this is a dictionary of how we get to nodes for passing to path method\n",
    "    notpath = {start: None}\n",
    "    # whether or not we have found the goal and need to keep looking\n",
    "    goalfound = False\n",
    "    # if the start is the goal then no need to do anything easy\n",
    "    if start == goal:\n",
    "        if return_cost:\n",
    "            return ([start], 0)\n",
    "        return [start]\n",
    "    # while we haven't found the goal, go look for the goal \n",
    "    while not goalfound:\n",
    "        # look at every node next to the node we need to explore next\n",
    "        for node in state_graph[explore[0]]:\n",
    "            # if we found the goal then set the while loop to stop, I prefer this over breaks because breaks usually break things (pun lol)\n",
    "            if node == goal:\n",
    "                goalfound = True\n",
    "                notpath[node] = explore[0]\n",
    "            # if it's not the goal then append it to our list to explore\n",
    "            # since it appends it to the end of the list this will traverse in BFS manner\n",
    "            # because the next level is being added at the end of explore, and we always get the first element of explore\n",
    "            # which means each level won't be explored until the current level is explored\n",
    "            # where level means how far away from the start we are in terms of just nodes\n",
    "            elif node not in explored and node not in explore:\n",
    "                explore.append(node)\n",
    "                # we got to the next node so add it to our paths\n",
    "                notpath[node] = explore[0]\n",
    "        # add the node we just finished processing to our list of explored so it never gets processed again\n",
    "        explored.append(explore[0])\n",
    "        # remove it from the explore since we just finished exploring it\n",
    "        explore.pop(0)\n",
    "    # get the path from start to goal using the nice path function\n",
    "    truepath = path(notpath, goal)\n",
    "    # if we don't need to return the path cost then just return the path\n",
    "    if not return_cost:\n",
    "        return truepath\n",
    "    # if we do need to return the path cost then create a tuple and use the nice pathcost function to get pathcost\n",
    "    return (truepath, pathcost(truepath, state_graph))"
   ]
  },
  {
   "cell_type": "code",
   "execution_count": 5,
   "metadata": {},
   "outputs": [
    {
     "name": "stdout",
     "output_type": "stream",
     "text": [
      "['chi']\n",
      "(['chi'], 0)\n",
      "['chi', 'det']\n",
      "(['chi', 'det'], 283)\n",
      "(['chi', 'cle', 'pit'], 479)\n",
      "(['chi', 'cle', 'pit', 'phi'], 784)\n",
      "(['por', 'bos', 'new', 'phi', 'pit', 'col'], 909)\n",
      "Error\n",
      "Error\n",
      "Error\n"
     ]
    }
   ],
   "source": [
    "# testing BFS bc that's the smart thing to do\n",
    "print(breadth_first('chi', 'chi', map_distances, False))\n",
    "print(breadth_first('chi', 'chi', map_distances, True))\n",
    "# those passed yay, now time for level 2\n",
    "print(breadth_first('chi', 'det', map_distances, False))\n",
    "print(breadth_first('chi', 'det', map_distances, True))\n",
    "# after some slight idk how to name variables issues and mixing them up, it actually works yay\n",
    "# well, it worked for two so it should work in general cool\n",
    "print(breadth_first('chi', 'pit', map_distances, True))\n",
    "# only a minor issue and it's fixed yay cool\n",
    "print(breadth_first('chi', 'phi', map_distances, True))\n",
    "print(breadth_first('por', 'col', map_distances, True))\n",
    "# ah, so good\n",
    "# some edge cases just in case\n",
    "print(breadth_first('my mother said to', 'and you are not it', map_distances, True))\n",
    "print(breadth_first('chi', 'det', {'ha':'there is no chi or det'}, True))\n",
    "print(breadth_first('', '', {}, True))\n",
    "# interesting, done on my 70th run, that's a lot more than I thought"
   ]
  },
  {
   "cell_type": "markdown",
   "metadata": {},
   "source": [
    "<a id='p1b'></a>\n",
    "### (2b)\n",
    "\n",
    "#### Depth-first search\n",
    "\n",
    "Implement a function **depth_first(start, goal, state_graph, return_cost)** to search the state space (and step costs) defined by **state_graph** using depth-first search:\n",
    "* **start**: initial state (e.g., 'ind')\n",
    "* **end**: goal state (e.g., 'bos')\n",
    "* **state_graph**: the dictionary defining the step costs (e.g., `map_distances`)\n",
    "* **return_cost**: logical input representing whether or not to return the solution path cost\n",
    "    * If **True**, then the output should be a tuple where the first value is the list representing the solution path and the second value is the path cost\n",
    "    * If **False**, then the only output is the solution path list object"
   ]
  },
  {
   "cell_type": "code",
   "execution_count": 6,
   "metadata": {},
   "outputs": [],
   "source": [
    "# same thing as BFS except we are going to explore then end of explore instead of the beginning\n",
    "def depth_first(start, goal, state_graph, return_cost):\n",
    "    # error checking\n",
    "    if goal not in state_graph or start not in state_graph:\n",
    "        return \"Error\"\n",
    "    # this is a list of nodes we have explored\n",
    "    explored = []\n",
    "    # this is the list of paths we need to explore\n",
    "    explore = [start]\n",
    "    # this is a dictionary of how we get to nodes for passing to path method\n",
    "    notpath = {start: None}\n",
    "    # whether or not we have found the goal and need to keep looking\n",
    "    goalfound = False\n",
    "    # if the start is the goal then no need to do anything easy\n",
    "    if start == goal:\n",
    "        if return_cost:\n",
    "            return ([start], 0)\n",
    "        return [start]\n",
    "    # while we haven't found the goal, go look for the goal \n",
    "    while not goalfound:\n",
    "        # BFS did this last but here we do it first bc DFS gets end of list and creates problems otherwise\n",
    "        # get the last element and save it\n",
    "        exploreboy = explore.pop()\n",
    "        # append what we are exploring to explored\n",
    "        explored.append(exploreboy)\n",
    "        # look at every node next to the node we need to explore next\n",
    "        for node in state_graph[exploreboy]:\n",
    "            # if we found the goal then set the while loop to stop, I prefer this over breaks because breaks usually break things (pun lol)\n",
    "            if node == goal:\n",
    "                goalfound = True\n",
    "                notpath[node] = exploreboy\n",
    "            # if it's not the goal then append it to our list to explore\n",
    "            # since it appends it to the end of the list this will traverse in DFS manner\n",
    "            # because the next level is being added at the end of explore, and we always get the last element of explore\n",
    "            elif node not in explored and node not in explore:\n",
    "                explore.append(node)\n",
    "                # we got to the next node so add it to our paths\n",
    "                notpath[node] = exploreboy\n",
    "    # get the path from start to goal using the nice path function\n",
    "    truepath = path(notpath, goal)\n",
    "    # if we don't need to return the path cost then just return the path\n",
    "    if not return_cost:\n",
    "        return truepath\n",
    "    # if we do need to return the path cost then create a tuple and use the nice pathcost function to get pathcost\n",
    "    return (truepath, pathcost(truepath, state_graph))"
   ]
  },
  {
   "cell_type": "code",
   "execution_count": 7,
   "metadata": {},
   "outputs": [
    {
     "name": "stdout",
     "output_type": "stream",
     "text": [
      "['chi']\n",
      "(['chi'], 0)\n",
      "['chi', 'det']\n",
      "(['chi', 'det'], 283)\n",
      "(['chi', 'ind', 'col', 'pit'], 543)\n",
      "(['chi', 'ind', 'col', 'pit', 'phi'], 848)\n",
      "(['por', 'bos', 'syr', 'phi', 'pit', 'col'], 1162)\n",
      "Error\n",
      "Error\n",
      "Error\n"
     ]
    }
   ],
   "source": [
    "# testing DFS bc that's the smart thing to do\n",
    "print(depth_first('chi', 'chi', map_distances, False))\n",
    "print(depth_first('chi', 'chi', map_distances, True))\n",
    "# those passed yay, now time for level 2\n",
    "print(depth_first('chi', 'det', map_distances, False))\n",
    "print(depth_first('chi', 'det', map_distances, True))\n",
    "# after some slight idk how to name variables issues and mixing them up, it actually works yay\n",
    "# well, it worked for two so it should work in general cool\n",
    "print(depth_first('chi', 'pit', map_distances, True))\n",
    "# only a minor issue and it's fixed yay cool\n",
    "print(depth_first('chi', 'phi', map_distances, True))\n",
    "print(depth_first('por', 'col', map_distances, True))\n",
    "# ah, so good\n",
    "# some edge cases just in case\n",
    "print(depth_first('my mother said to', 'and you are not it', map_distances, True))\n",
    "print(depth_first('chi', 'det', {'ha':'there is no chi or det'}, True))\n",
    "print(depth_first('', '', {}, True))"
   ]
  },
  {
   "cell_type": "markdown",
   "metadata": {},
   "source": [
    "<a id='p1c'></a>\n",
    "### (2c)\n",
    "\n",
    "#### Uniform-cost search\n",
    "\n",
    "First, let's create our own `Frontier_PQ` class to represent the frontier (priority queue) for uniform-cost search.  Note that the `heapq` package is imported in the helpers at the bottom of this notebook; you may find that package useful.  You could also use the `Queue` package.  Your implementation of the uniform-cost search frontier should adhere to these specifications:\n",
    "* Instantiation arguments: \n",
    "  * **Frontier_PQ(start, cost)**\n",
    "  * **start** is the initial state (e.g., **start**='chi')\n",
    "  * **cost** is the initial path cost (what should it be for the initial state?)\n",
    "* Instantiation attributes/methods:\n",
    "  * **states**: maintains a dictionary of states on the frontier, along with the _minimum_ path cost to arrive at them\n",
    "  * **q**: a list of (cost, state) tuples, representing the elements on the frontier; should be treated as a priority queue (in contrast to the **states** dictionary, which is meant to keep track of the lowest-cost to each state)\n",
    "  * appropriately initialize the starting state and cost\n",
    "* Methods to implement:\n",
    "  * **add(state, cost)**: add the (cost, state) tuple to the frontier\n",
    "  * **pop()**: return the lowest-cost (cost, state) tuple, and pop it off the frontier\n",
    "  * **replace(state, cost)**: if you find a lower-cost path to a state that's already on the frontier, it should be replaced using this method.\n",
    "  \n",
    "Note that there is some redundancy between the information stored in **states** and **q**. I only suggest to code it in this way because I think it's the most straightforward way to get something working. You could reduce the storage requirements by eliminating the redundancy, but it increases the time complexity because of the function calls needed to manipulate your priority queue to check for states (since that isn't how the frontier queue is ordered)."
   ]
  },
  {
   "cell_type": "code",
   "execution_count": 8,
   "metadata": {},
   "outputs": [],
   "source": [
    "class Frontier_PQ:\n",
    "    \n",
    "    # initialize states and q in the frontier class\n",
    "    # states are explored q is the sorted list of current possible paths\n",
    "    def __init__(self, start, cost):\n",
    "        self.states = {start:cost}\n",
    "        self.q = []\n",
    "    \n",
    "    # add a possible path to our sorted heap / the frontier\n",
    "    def add(self, state, cost):\n",
    "        heapq.heappush(self.q, (cost, state))\n",
    "    \n",
    "    # move from our frontier to our explored and return the lowest element\n",
    "    # from our frontier\n",
    "    def pop(self):\n",
    "        lowest = heapq.heappop(self.q)\n",
    "        self.states[lowest[1]] = lowest[0]\n",
    "        return lowest\n",
    "    \n",
    "    # replace a frontier path with a better path\n",
    "    # I also return True or False because this will make\n",
    "    # UCS easier \n",
    "    def replace(self, state, cost):\n",
    "        for i in range(0, len(self.q)):\n",
    "            if self.q[i][1] == state:\n",
    "                # make sure the path is actually better\n",
    "                if self.q[i][0] > cost:\n",
    "                    self.q[i] = (cost, state)\n",
    "                    heapq.heapify(self.q)\n",
    "                    return True\n",
    "                else:\n",
    "                    return False\n",
    "    \n",
    "    # just a helper function for testing frontier class\n",
    "    def test(self):\n",
    "        print(self.states, self.q)\n",
    "    "
   ]
  },
  {
   "cell_type": "code",
   "execution_count": 9,
   "metadata": {},
   "outputs": [
    {
     "name": "stdout",
     "output_type": "stream",
     "text": [
      "{'the start': 0} []\n",
      "{'the start': 0} [(10, 'world'), (20, 'hello')]\n",
      "{'the start': 0} [(10, 'world'), (20, 'hello')]\n",
      "(10, 'world')\n",
      "{'the start': 0, 'world': 10} [(20, 'hello')]\n"
     ]
    }
   ],
   "source": [
    "''' me figuring out how to use heaps\n",
    "heaptest = []\n",
    "heapq.heappush(heaptest, (122, 'hello'))\n",
    "print(heaptest)\n",
    "heapq.heappush(heaptest, (18, 'hey'))\n",
    "print(heaptest)\n",
    "for i in range(0, len(heaptest)):\n",
    "    print(heaptest[i])\n",
    "    if heaptest[i][1] == 'hey':\n",
    "        heaptest[i] = (200, 'hey')\n",
    "        heapq.heapify(heaptest)\n",
    "        break\n",
    "print(heaptest)\n",
    "'''\n",
    "# testing our frontier_PQ class\n",
    "frontier = Frontier_PQ('the start', 0)\n",
    "frontier.test()\n",
    "frontier.add('hello', 20)\n",
    "frontier.add('world', 10)\n",
    "frontier.test()\n",
    "frontier.replace('world', 15)\n",
    "frontier.test()\n",
    "print(frontier.pop())\n",
    "frontier.test()"
   ]
  },
  {
   "cell_type": "markdown",
   "metadata": {},
   "source": [
    "Now, actually implement a function to search using `uniform_cost` search, called as **uniform_cost(start, goal, state_graph, return_cost)**:\n",
    "* **start**: initial state\n",
    "* **goal**: goal state\n",
    "* **state_graph**: graph representing the connectivity and step costs of the state space (e.g., **map_distances** or **map_times** below)\n",
    "* **return_cost**: logical input representing whether or not to return the solution path cost\n",
    "  * If **True**, then the output should be a tuple where the first value is the list representing the solution path and the second value is the path cost\n",
    "  * If **False**, then the only output is the solution path list object"
   ]
  },
  {
   "cell_type": "code",
   "execution_count": 10,
   "metadata": {},
   "outputs": [],
   "source": [
    "def uniform_cost(start, goal, state_graph, return_cost):\n",
    "    # error checking\n",
    "    if goal not in state_graph or start not in state_graph:\n",
    "        return \"Error\"\n",
    "    # if our goal is where we started then easy\n",
    "    if start == goal:\n",
    "        if return_cost:\n",
    "            return ([start], 0)\n",
    "        return [start]\n",
    "    # initialize our frontier\n",
    "    frontier = Frontier_PQ(start, 0)\n",
    "    # initialize our paths\n",
    "    notpath = {start:None}\n",
    "    # get all the nodes next to the start and put them into the frontier\n",
    "    for node in state_graph[start]:\n",
    "        frontier.add(node, pathcost([start, node], state_graph))\n",
    "        notpath[node] = start\n",
    "    # keep going until we return\n",
    "    while True:\n",
    "        #frontier.test()\n",
    "        #print('paths:', notpath, '--------------')\n",
    "        # get the lowest cost path\n",
    "        node_tuple = frontier.pop()\n",
    "        #print(node_tuple)\n",
    "        # if it was our goal then we have made it return the stuff\n",
    "        if node_tuple[1] == goal:\n",
    "            truepath = path(notpath, goal)\n",
    "            if return_cost:\n",
    "                return (truepath, frontier.states[goal])\n",
    "            return truepath\n",
    "        # add all the new possible nodes to the frontier if we haven't already explored them\n",
    "        for node in state_graph[node_tuple[1]]:\n",
    "            #print(node)\n",
    "            # if we've already found the shortest path to our node then skip it\n",
    "            if not node in frontier.states:\n",
    "                # now we check if the node already has a path and needs to be replaced or added\n",
    "                if not node in notpath:\n",
    "                    # it didn't exist yet so add it to our frontier\n",
    "                    frontier.add(node, node_tuple[0] + pathcost([node_tuple[1], node], state_graph))\n",
    "                    # also add how we got there to notpath\n",
    "                    notpath[node] = node_tuple[1]\n",
    "                # if it did already exist then we need to replace instead\n",
    "                # this is why I added a return to replace, this just sends every possibility to replace\n",
    "                # if it was actually better then replace will return True and therefore\n",
    "                # we need to update notpath because this path was better, otherwise do nothing since \n",
    "                # this path was worse\n",
    "                elif frontier.replace(node, node_tuple[0] + pathcost([node_tuple[1], node], state_graph)):\n",
    "                    notpath[node] = node_tuple[1]"
   ]
  },
  {
   "cell_type": "code",
   "execution_count": 11,
   "metadata": {},
   "outputs": [
    {
     "name": "stdout",
     "output_type": "stream",
     "text": [
      "['chi']\n",
      "(['chi'], 0)\n",
      "['chi', 'det']\n",
      "(['chi', 'det'], 283)\n",
      "(['chi', 'cle', 'pit'], 479)\n",
      "(['chi', 'cle', 'pit', 'phi'], 784)\n",
      "(['por', 'bos', 'syr', 'buf', 'cle', 'col'], 902)\n",
      "Error\n",
      "Error\n",
      "Error\n"
     ]
    }
   ],
   "source": [
    "# time to test UC\n",
    "print(uniform_cost('chi', 'chi', map_distances, False))\n",
    "print(uniform_cost('chi', 'chi', map_distances, True))\n",
    "# those passed yay, now time for level 2\n",
    "print(uniform_cost('chi', 'det', map_distances, False))\n",
    "print(uniform_cost('chi', 'det', map_distances, True))\n",
    "# after some slight idk how to name variables issues and mixing them up, it actually works yay\n",
    "# well, it worked for two so it should work in general cool\n",
    "print(uniform_cost('chi', 'pit', map_distances, True))\n",
    "# only a minor issue and it's fixed yay cool\n",
    "print(uniform_cost('chi', 'phi', map_distances, True))\n",
    "print(uniform_cost('por', 'col', map_distances, True))\n",
    "# ah, so good\n",
    "# some edge cases just in case\n",
    "print(uniform_cost('my mother said to', 'and you are not it', map_distances, True))\n",
    "print(uniform_cost('chi', 'det', {'ha':'there is no chi or det'}, True))\n",
    "print(uniform_cost('', '', {}, True))"
   ]
  },
  {
   "cell_type": "markdown",
   "metadata": {},
   "source": [
    "<a id='p1d'></a>\n",
    "### (2d)\n",
    "\n",
    "In the code cell below, use a few **print** statements to showcase the output of each of your three search algorithms defined above (in **1a**, **1b** and **1c**) to find routes for Snake to travel from Chicago to New York, with path costs defined by the distance between cities.\n",
    "\n",
    "Then, in the markdown cell below your code cell, write a few sentences:\n",
    "* Which algorithm yields the shortest path?\n",
    "* Why does this not surprise you?"
   ]
  },
  {
   "cell_type": "code",
   "execution_count": 12,
   "metadata": {},
   "outputs": [
    {
     "name": "stdout",
     "output_type": "stream",
     "text": [
      "Bread First Search ------------------------------\n",
      "1: ['chi']\n",
      "2: (['chi'], 0)\n",
      "3: ['chi', 'det']\n",
      "4: (['chi', 'det'], 283)\n",
      "5: (['chi', 'cle', 'pit'], 479)\n",
      "6: (['chi', 'cle', 'pit', 'phi'], 784)\n",
      "7: (['por', 'bos', 'new', 'phi', 'pit', 'col'], 909)\n",
      "8: (['chi', 'det', 'buf', 'syr', 'new'], 943)\n",
      "9: (['chi', 'det', 'buf', 'syr', 'new'], 955)\n",
      "Depth First Search ------------------------------\n",
      "1: ['chi']\n",
      "3: ['chi', 'det']\n",
      "4: (['chi', 'det'], 283)\n",
      "5: (['chi', 'ind', 'col', 'pit'], 543)\n",
      "6: (['chi', 'ind', 'col', 'pit', 'phi'], 848)\n",
      "7: (['por', 'bos', 'syr', 'phi', 'pit', 'col'], 1162)\n",
      "8: (['chi', 'ind', 'col', 'pit', 'phi', 'new'], 945)\n",
      "9: (['chi', 'ind', 'col', 'pit', 'phi', 'new'], 1015)\n",
      "Uniform Cost ------------------------------\n",
      "1: ['chi']\n",
      "2: (['chi'], 0)\n",
      "3: ['chi', 'det']\n",
      "4: (['chi', 'det'], 283)\n",
      "5: (['chi', 'cle', 'pit'], 479)\n",
      "6: (['chi', 'cle', 'pit', 'phi'], 784)\n",
      "7: (['por', 'bos', 'syr', 'buf', 'cle', 'col'], 902)\n",
      "8: (['chi', 'cle', 'pit', 'phi', 'new'], 881)\n",
      "9: (['chi', 'cle', 'buf', 'syr', 'new'], 935)\n"
     ]
    }
   ],
   "source": [
    "print('Bread First Search ------------------------------')\n",
    "\n",
    "print('1:', breadth_first('chi', 'chi', map_distances, False))\n",
    "print('2:', breadth_first('chi', 'chi', map_distances, True))\n",
    "\n",
    "print('3:', breadth_first('chi', 'det', map_distances, False))\n",
    "print('4:', breadth_first('chi', 'det', map_distances, True))\n",
    "\n",
    "print('5:', breadth_first('chi', 'pit', map_distances, True))\n",
    "\n",
    "print('6:', breadth_first('chi', 'phi', map_distances, True))\n",
    "print('7:', breadth_first('por', 'col', map_distances, True))\n",
    "\n",
    "print('8:', breadth_first('chi', 'new', map_distances, True))\n",
    "print('9:', breadth_first('chi', 'new', map_times, True))\n",
    "\n",
    "print('Depth First Search ------------------------------')\n",
    "\n",
    "print('1:', depth_first('chi', 'chi', map_distances, False))\n",
    "\n",
    "print('3:', depth_first('chi', 'det', map_distances, False))\n",
    "print('4:', depth_first('chi', 'det', map_distances, True))\n",
    "\n",
    "print('5:', depth_first('chi', 'pit', map_distances, True))\n",
    "\n",
    "print('6:', depth_first('chi', 'phi', map_distances, True))\n",
    "print('7:', depth_first('por', 'col', map_distances, True))\n",
    "\n",
    "print('8:', depth_first('chi', 'new', map_distances, True))\n",
    "print('9:', depth_first('chi', 'new', map_times, True))\n",
    "\n",
    "print('Uniform Cost ------------------------------')\n",
    "\n",
    "print('1:', uniform_cost('chi', 'chi', map_distances, False))\n",
    "print('2:', uniform_cost('chi', 'chi', map_distances, True))\n",
    "\n",
    "print('3:', uniform_cost('chi', 'det', map_distances, False))\n",
    "print('4:', uniform_cost('chi', 'det', map_distances, True))\n",
    "\n",
    "print('5:', uniform_cost('chi', 'pit', map_distances, True))\n",
    "\n",
    "print('6:', uniform_cost('chi', 'phi', map_distances, True))\n",
    "print('7:', uniform_cost('por', 'col', map_distances, True))\n",
    "\n",
    "print('8:', uniform_cost('chi', 'new', map_distances, True))\n",
    "print('9:', uniform_cost('chi', 'new', map_times, True))"
   ]
  },
  {
   "cell_type": "markdown",
   "metadata": {},
   "source": [
    "Uniform Cost always produces the shortest path because it's algorithm is find the shortest possible path. BFS finds the shortest path for small depths simply because the goal is really close so it doesn't really matter what path you take, same with DFS. For some larger paths BFS performs ok since most paths in the map are actually about the same cost, therefore just going through the closest nodes kind of works, but DFS wanders a lot and is pretty terrible unless you start really close to your goal. I was actually a little surprised that DFS in 8 didn't take super long, but I guess it just got lucky with the order nodes were traversed and didn't do too terrible."
   ]
  },
  {
   "cell_type": "markdown",
   "metadata": {},
   "source": [
    "<a id='p1e'></a>\n",
    "### (2e)\n",
    "\n",
    "The Plutoxin 7 poison (which Snake has been infected with) will cause Snake's central nervous system to implode after exactly 1000 minutes.\n",
    "\n",
    "Will any of the paths found in **(1d)** get Snake to New York alive?  Show your work! Snake's life hangs in the balance."
   ]
  },
  {
   "cell_type": "code",
   "execution_count": 13,
   "metadata": {},
   "outputs": [
    {
     "name": "stdout",
     "output_type": "stream",
     "text": [
      "['chi', 'cle', 'pit', 'phi', 'new']\n",
      "945\n"
     ]
    }
   ],
   "source": [
    "print(uniform_cost('chi', 'new', map_distances, False))\n",
    "print(pathcost(uniform_cost('chi', 'new', map_distances, False), map_times))"
   ]
  },
  {
   "cell_type": "markdown",
   "metadata": {},
   "source": [
    "If you plug the shortest distance path gotten from uniform cost into pathcost using time, you get 945 minutes so he can make it since that's less than 1000 minuts.\n",
    "\n",
    "chi to cle to pit to phi to new = 345 + 145 + 305 + 150 = 945 so algorithm was right."
   ]
  },
  {
   "cell_type": "markdown",
   "metadata": {},
   "source": [
    "<a id='p1f'></a>\n",
    "### (2f)\n",
    "\n",
    "Since time is a factor, Snake ought to optimize his route from Chicago to New York to minimize the total time required. Because Snake is a renaissance man, he knows some pretty slick search algorithms.  But because he's infected with deadly poison, Snake just isn't up to the task of implementing them - his code is full of bugs and he keeps sneezing all over his monitor!  Let's help him out, shall we?\n",
    "\n",
    "In the code cell below, find the shortest path from Chicago to New York as measured by total time taken, and display the result using a **print** statement\n",
    "\n",
    "In the markdown cell below the code cell, write a couple of sentences:\n",
    "* Why did you choose the search algorithm and state space graph that you chose?\n",
    "* Would the solution path found by the other algorithms (the ones you didn't use in your function call) change if you tried to optimize based on time as opposed to distance (i.e., used **map_times** as opposed to **map_distances**)? Why or why not?\n",
    "* **Most importantly:**  will Snake get to New York in time to receive the Plutoxin 7 antidote? This answer should be justified by your code output."
   ]
  },
  {
   "cell_type": "code",
   "execution_count": 14,
   "metadata": {},
   "outputs": [
    {
     "name": "stdout",
     "output_type": "stream",
     "text": [
      "(['chi', 'cle', 'buf', 'syr', 'new'], 935)\n"
     ]
    }
   ],
   "source": [
    "print(uniform_cost('chi', 'new', map_times, True))"
   ]
  },
  {
   "cell_type": "markdown",
   "metadata": {},
   "source": [
    "I chose uniform cost because we want to ensure that we get the optimal solution and the actual shortest path from Chicago to New York since lives are at stake. I chose map_times graph because that bases the shortest path off of time rather than distance and in this problem we are most concerned with time not the distance. Some paths did change probably because the shortest time isn't always the shortest distance and some paths that are longer take less time and some that are shorter take more time. Yes he will, 935 is less than 1000 so he will make it with 65 minutes to spare. "
   ]
  },
  {
   "cell_type": "markdown",
   "metadata": {},
   "source": [
    "## Problem 3 (25 points)\n",
    "\n",
    "Well, it turns out Snake used the right algorithms and lived through his perilous trip to New York City.  He returned to Chicago, where he is living happily among the criminals, sea lions and criminal sea lions  But we want a sequel!\n",
    "\n",
    "During Snake's time on the east coast, he came to realize that the soothing Atlantic Ocean air does wonders for his nerves. Living in the penal colony of Chicago is just so stressful! So he has decided to pack up and move to Providence, Rhode Island.\n",
    "\n",
    "Because Snake has traveled across the country already, he has some prior knowledge regarding how far various cities along the way are from his final destination of Providence.  In particular, Snake maps out the **straight-line distance** from major cities to Providence. This information is displayed graphically below, on a tattoo on Kurt Russell's forearm (you can't prove that isn't true), and in the `sld_providence` dictionary in the [helper functions] at the top of this notebook.\n",
    "\n",
    "Also note that because it doesn't make much sense to add estimated travel times and the straight-line distance, we will only be using the `map_distances` state space graph for this problem.\n",
    "\n",
    "**map_distances**          |  **sld_providence**\n",
    ":-------------------------:|:-------------------------:\n",
    "<img src=\"http://drive.google.com/uc?export=view&id=1j6Kam3F7ET-aIzT-6KMxaW7D7r8WAOME\" alt=\"Drawing\" style=\"width: 500px;\"/>  | <img src=\"http://drive.google.com/uc?export=view&id=1a8FNEG7apKkRX7VvpdMgmeYbqeNuOdwz\" alt=\"Drawing\" style=\"width: 500px;\"/>\n",
    "\n",
    "\n",
    "<a id='p1a'></a>\n",
    "### (3a)\n",
    "\n",
    "Modify your code for uniform-cost search from Problem 1 so that it provides optionally as output the number of nodes **expanded** in completing the search. \n",
    "\n",
    "Include a new optional logical (True/False) argument **return_nexp**, so your function calls to the new uniform cost search will look like: `uniform_cost(start, goal, state_graph, return_cost, return_nexp)`.\n",
    "* If `return_nexp` is True, then the last output in the output tuple should be the number of nodes expanded.\n",
    "* If `return_nexp` is False, then the code should behave exactly as it does in problem 2.\n",
    "\n",
    "Then, verify that your revised codes are working by checking Snake's optimal route from Chicago to New York. Include the number of nodes expanded and the path cost (using `map_distances`)."
   ]
  },
  {
   "cell_type": "code",
   "execution_count": 15,
   "metadata": {},
   "outputs": [],
   "source": [
    "def uniform_cost(start, goal, state_graph, return_cost, return_nexp):\n",
    "    # error checking\n",
    "    if goal not in state_graph or start not in state_graph:\n",
    "        return \"Error\"\n",
    "    # if our goal is where we started then easy\n",
    "    if start == goal:\n",
    "        if return_cost:\n",
    "            if return_nexp:\n",
    "                return ([start], 0, 0)\n",
    "            return ([start], 0)\n",
    "        if return_nexp:\n",
    "            return ([start], 0)\n",
    "        return [start]\n",
    "    # initialize our frontier\n",
    "    frontier = Frontier_PQ(start, 0)\n",
    "    # initialize our paths\n",
    "    notpath = {start:None}\n",
    "    # get all the nodes next to the start and put them into the frontier\n",
    "    for node in state_graph[start]:\n",
    "        frontier.add(node, pathcost([start, node], state_graph))\n",
    "        notpath[node] = start\n",
    "    expanded = 1\n",
    "    # keep going until we return\n",
    "    while True:\n",
    "        #frontier.test()\n",
    "        #print('paths:', notpath, '--------------')\n",
    "        # get the lowest cost path\n",
    "        node_tuple = frontier.pop()\n",
    "        #print(node_tuple)\n",
    "        # how many nodes we've expanded\n",
    "        expanded += 1\n",
    "        #print(node_tuple)\n",
    "        # if it was our goal then we have made it return the stuff\n",
    "        if node_tuple[1] == goal:\n",
    "            truepath = path(notpath, goal)\n",
    "            if return_cost:\n",
    "                if return_nexp:\n",
    "                    return (truepath, frontier.states[goal], expanded)\n",
    "                return (truepath, frontier.states[goal])\n",
    "            if return_nexp:\n",
    "                return (truepath, expanded)\n",
    "            return truepath\n",
    "        # add all the new possible nodes to the frontier if we haven't already explored them\n",
    "        for node in state_graph[node_tuple[1]]:\n",
    "            #print(node)\n",
    "            # if we've already found the shortest path to our node then skip it\n",
    "            if not node in frontier.states:\n",
    "                # now we check if the node already has a path and needs to be replaced or added\n",
    "                if not node in notpath:\n",
    "                    # it didn't exist yet so add it to our frontier\n",
    "                    frontier.add(node, node_tuple[0] + pathcost([node_tuple[1], node], state_graph))\n",
    "                    # also add how we got there to notpath\n",
    "                    notpath[node] = node_tuple[1]\n",
    "                # if it did already exist then we need to replace instead\n",
    "                # this is why I added a return to replace, this just sends every possibility to replace\n",
    "                # if it was actually better then replace will return True and therefore\n",
    "                # we need to update notpath because this path was better, otherwise do nothing since \n",
    "                # this path was worse\n",
    "                elif frontier.replace(node, node_tuple[0] + pathcost([node_tuple[1], node], state_graph)):\n",
    "                    notpath[node] = node_tuple[1]"
   ]
  },
  {
   "cell_type": "code",
   "execution_count": 16,
   "metadata": {},
   "outputs": [
    {
     "name": "stdout",
     "output_type": "stream",
     "text": [
      "8: (['chi', 'cle', 'pit', 'phi', 'new'], 881, 11)\n"
     ]
    }
   ],
   "source": [
    "# previous output 8: (['chi', 'cle', 'pit', 'phi', 'new'], 881)\n",
    "print('8:', uniform_cost('chi', 'new', map_distances, True, True))\n",
    "# so it works"
   ]
  },
  {
   "cell_type": "markdown",
   "metadata": {},
   "source": [
    "### (3b)\n",
    "\n",
    "#### Heuristic function\n",
    "\n",
    "Define a function to take as an argument the `state` that Snake is in (city on our graphs), and return as output the value of the straight-line distance heuristic, between Snake's `state` and Providence.  Note that your function should be quite short, and amounts to looking up the proper value from the `sld_providence` dictionary defined in the [helper functions](#helper).  Call this function `heuristic_sld_providence`.\n"
   ]
  },
  {
   "cell_type": "code",
   "execution_count": 17,
   "metadata": {},
   "outputs": [],
   "source": [
    "def heuristic_sld_providence(state):\n",
    "    if not state in sld_providence:\n",
    "        return 'error'\n",
    "    return sld_providence[state]"
   ]
  },
  {
   "cell_type": "code",
   "execution_count": 18,
   "metadata": {},
   "outputs": [
    {
     "name": "stdout",
     "output_type": "stream",
     "text": [
      "833\n",
      "error\n"
     ]
    }
   ],
   "source": [
    "print(heuristic_sld_providence('chi'))\n",
    "print(heuristic_sld_providence('easy'))"
   ]
  },
  {
   "cell_type": "markdown",
   "metadata": {},
   "source": [
    "### (3c)\n",
    "\n",
    "#### Full-blown A\\* search\n",
    "\n",
    "We are finally ready to help Snake use his knowledge of straight-line distances from various cities to Providence to inform his path-finding from Chicago to Providence!\n",
    "\n",
    "Modify your uniform-cost search codes from **(2a)** even further so that they now perform **A\\* search**, using as the heuristic function the straight-line distance to Providence.\n",
    "\n",
    "Provide `heuristic` as an additional argument, which should just be the function name to call within the A\\* code. So your call to the A\\* routine should look like:  `astar_search(start, goal, state_graph, heuristic, return_cost, return_nexp)`.  (This kind of modular programming will make it much easier to swap in alternative heuristic functions later, and also helps to facilitate debugging if something goes wrong.)"
   ]
  },
  {
   "cell_type": "code",
   "execution_count": 19,
   "metadata": {},
   "outputs": [],
   "source": [
    "# this is the UC we made for 3a except we add the heuristic to the cost\n",
    "# whereever you see pathcost being called just also call heuristic and add it to the cost\n",
    "def astar_search(start, goal, state_graph, heuristic, return_cost, return_nexp):\n",
    "    # error checking\n",
    "    if goal not in state_graph or start not in state_graph:\n",
    "        return \"Error\"\n",
    "    # if our goal is where we started then easy\n",
    "    if start == goal:\n",
    "        if return_cost:\n",
    "            if return_nexp:\n",
    "                return ([start], 0, 0)\n",
    "            return ([start], 0)\n",
    "        if return_nexp:\n",
    "            return ([start], 0)\n",
    "        return [start]\n",
    "    # initialize our frontier\n",
    "    frontier = Frontier_PQ(start, 0)\n",
    "    # initialize our paths\n",
    "    notpath = {start:None}\n",
    "    # get all the nodes next to the start and put them into the frontier\n",
    "    for node in state_graph[start]:\n",
    "        frontier.add(node, pathcost([start, node], state_graph) + heuristic(node))\n",
    "        notpath[node] = start\n",
    "    expanded = 1\n",
    "    # keep going until we return\n",
    "    while True:\n",
    "        #print('paths:', notpath, '--------------')\n",
    "        # get the lowest cost path\n",
    "        node_tuple = frontier.pop()\n",
    "        #print(node_tuple)\n",
    "        # how many nodes we've expanded\n",
    "        expanded += 1\n",
    "        #print(node_tuple)\n",
    "        # if it was our goal then we have made it return the stuff\n",
    "        if node_tuple[1] == goal:\n",
    "            truepath = path(notpath, goal)\n",
    "            if return_cost:\n",
    "                if return_nexp:\n",
    "                    return (truepath, pathcost(truepath, state_graph), expanded)\n",
    "                return (truepath, frontier.states[goal])\n",
    "            if return_nexp:\n",
    "                return (truepath, expanded)\n",
    "            return truepath\n",
    "        # add all the new possible nodes to the frontier if we haven't already explored them\n",
    "        for node in state_graph[node_tuple[1]]:\n",
    "            #print(node)\n",
    "            # if we've already found the shortest path to our node then skip it\n",
    "            if not node in frontier.states:\n",
    "                # now we check if the node already has a path and needs to be replaced or added\n",
    "                if not node in notpath:\n",
    "                    # it didn't exist yet so add it to our frontier\n",
    "                    frontier.add(node, node_tuple[0] + pathcost([node_tuple[1], node], state_graph) + heuristic(node))\n",
    "                    # also add how we got there to notpath\n",
    "                    notpath[node] = node_tuple[1]\n",
    "                # if it did already exist then we need to replace instead\n",
    "                # this is why I added a return to replace, this just sends every possibility to replace\n",
    "                # if it was actually better then replace will return True and therefore\n",
    "                # we need to update notpath because this path was better, otherwise do nothing since \n",
    "                # this path was worse\n",
    "                elif frontier.replace(node, node_tuple[0] + pathcost([node_tuple[1], node], state_graph) + heuristic(node)):\n",
    "                    notpath[node] = node_tuple[1]"
   ]
  },
  {
   "cell_type": "code",
   "execution_count": 20,
   "metadata": {},
   "outputs": [
    {
     "name": "stdout",
     "output_type": "stream",
     "text": [
      "(['det', 'buf', 'syr', 'bos', 'pro'], 768, 13)\n",
      "(['det', 'buf', 'syr', 'bos', 'pro'], 768, 8)\n"
     ]
    }
   ],
   "source": [
    "print(uniform_cost('det', 'pro', map_distances, True, True))\n",
    "print(astar_search('det', 'pro', map_distances, heuristic_sld_providence, True, True))"
   ]
  },
  {
   "cell_type": "markdown",
   "metadata": {},
   "source": [
    "### (3d)\n",
    "\n",
    "Snake has already made it to Buffalo on his own, but he is growing weary.  There were ***so*** many sea lions along the way, and he had to stop and admire their grace and beauty.  Use your A\\* search code from **(3c)** to help Snake find the optimal path **by distance traveled** the rest of the way to Providence.  Print to the screen the following:\n",
    "1. the optimal path\n",
    "2. the optimal path cost (miles traveled)\n",
    "3. the number of states expanded during the A\\* search\n",
    "\n",
    "Additionally, show below how many states must be expanded to find the optimal path from Buffalo to Providence using the regular old uniform-cost search algorithm from **(3a)**.  Comment on the difference in states that must be explored by each algorithm.\n",
    "\n",
    "**Sanity check:** No matter what your `start` and `goal` states are, how should the output from `astar_search` and `uniform_cost` search compare?"
   ]
  },
  {
   "cell_type": "code",
   "execution_count": 21,
   "metadata": {},
   "outputs": [
    {
     "name": "stdout",
     "output_type": "stream",
     "text": [
      "Astar\n",
      "1. ['buf', 'syr', 'bos', 'pro']\n",
      "2. 512\n",
      "3. 6\n",
      "Uniform Cost\n",
      "1. ['buf', 'syr', 'bos', 'pro']\n",
      "2. 512\n",
      "3. 12\n"
     ]
    }
   ],
   "source": [
    "print('Astar')\n",
    "answer_tuple = astar_search('buf', 'pro', map_distances, heuristic_sld_providence, True, True)\n",
    "print('1.', answer_tuple[0])\n",
    "print('2.', answer_tuple[1])\n",
    "print('3.', answer_tuple[2])\n",
    "print('Uniform Cost')\n",
    "answer_tuple = uniform_cost('buf', 'pro', map_distances, True, True)\n",
    "print('1.', answer_tuple[0])\n",
    "print('2.', answer_tuple[1])\n",
    "print('3.', answer_tuple[2])"
   ]
  },
  {
   "cell_type": "markdown",
   "metadata": {},
   "source": [
    "Uniform Cost searches away from Providence going to detroit and cleveland and even chicago possibly, while astar only goes in the direction of providence and doesn't explore nodes that lead it away from the goal leading to many less nodes needing to be explored. "
   ]
  },
  {
   "attachments": {
    "image.png": {
     "image/png": "[encoded data removed]"
    }
   },
   "cell_type": "markdown",
   "metadata": {},
   "source": [
    "\n",
    "## Problem 4 (30 points)\n",
    "\n",
    "Consider this maze, where gray tiles represent walls and orange tiles represent open space where you can walk.\n",
    "\n",
    "![image.png](attachment:image.png)\n",
    "\n",
    "We can represent this maze using a binary `numpy` array as follows, where 1s represent walls and 0s represent open space:"
   ]
  },
  {
   "cell_type": "code",
   "execution_count": 22,
   "metadata": {},
   "outputs": [],
   "source": [
    "maze = np.array([[1, 1, 1, 1, 1, 1, 1, 1, 1, 1, 1, 1],\n",
    "                 [1, 0, 0, 0, 0, 0, 0, 0, 0, 0, 0, 1],\n",
    "                 [1, 0, 1, 1, 1, 1, 1, 1, 0, 1, 0, 1],\n",
    "                 [1, 0, 1, 0, 0, 0, 0, 0, 0, 0, 0, 1],\n",
    "                 [1, 0, 1, 0, 1, 1, 1, 0, 1, 1, 1, 1],\n",
    "                 [1, 0, 1, 0, 0, 0, 0, 0, 0, 0, 0, 1],\n",
    "                 [1, 0, 0, 0, 1, 1, 0, 1, 1, 1, 0, 1],\n",
    "                 [1, 0, 1, 0, 0, 1, 1, 1, 0, 1, 0, 1],\n",
    "                 [1, 1, 1, 1, 0, 1, 0, 0, 0, 0, 0, 1],\n",
    "                 [1, 0, 1, 0, 0, 1, 0, 1, 1, 1, 1, 1],\n",
    "                 [1, 0, 0, 0, 1, 1, 0, 0, 0, 0, 0, 1],\n",
    "                 [1, 1, 1, 1, 1, 1, 1, 1, 1, 1, 1, 1]])"
   ]
  },
  {
   "cell_type": "markdown",
   "metadata": {},
   "source": [
    "**Very importantly**, note that the *first* row of the **maze** array corresponds to the *bottom* row of tiles in the figure.  This is a choice made carefully to reflect the fact that we are going to search for a solution path through this maze in *physical* space, so it is useful for our coordinate system to match Cartesian coordinates. This is in contrast to using the first row of the **maze** array to represent the top of the maze, which looks intuitive."
   ]
  },
  {
   "cell_type": "markdown",
   "metadata": {},
   "source": [
    "<a id='p3a'></a>\n",
    "### (4a)\n",
    "\n",
    "Write a function **maze_to_graph(maze)** that:\n",
    "* takes as input a binary maze **maze**, stored as a `numpy` array, where 0 represents an open path and 1 represents a wall\n",
    "* returns a graph dictionary in a similar style to **map_distances** and **map_times** (from Problem 1)\n",
    "  * the keys are tuples giving the states (coordinate pairs) within the maze (e.g., (1,1) represents the lower-left open space, (2,1) represents the space **to the right** of (1,1), and (0,0) represents the lower-left corner, a wall location); thus, the coordinates within the maze are like Cartesian coordinates, and the x- and y-axes are the bottom and left walls of the maze, respectively\n",
    "  * the values are themselves dictionaries, where the keys are other states within the maze and the values are the actions taken to move to that state\n",
    "  * the actions are moves from the list ['N','S','E','W']"
   ]
  },
  {
   "cell_type": "code",
   "execution_count": 23,
   "metadata": {},
   "outputs": [],
   "source": [
    "def maze_to_graph(maze):\n",
    "    # the dictionary we are going to return\n",
    "    graph_dict = {}\n",
    "    for y in range(0, len(maze)):\n",
    "        for x in range(0, len(maze[y])):\n",
    "            if not maze[y][x]:\n",
    "                actions = {}\n",
    "                if y-1 >= 0 and not maze[y-1][x]:\n",
    "                    actions[(x,y-1)] = 'S'\n",
    "                if y+1 < len(maze) and not maze[y+1][x]:\n",
    "                    actions[(x,y+1)] = 'N'\n",
    "                if x-1 >= 0 and not maze[y][x-1]:\n",
    "                    actions[(x-1,y)] = 'W'\n",
    "                if x+1 < len(maze)and not maze[y][x+1]:\n",
    "                    actions[(x+1,y)] = 'E'\n",
    "                graph_dict[(x,y)] = actions\n",
    "    return graph_dict\n",
    "#maze_to_graph(maze)"
   ]
  },
  {
   "cell_type": "markdown",
   "metadata": {},
   "source": [
    "<a id='p3b'></a>\n",
    "### (4b)\n",
    "\n",
    "Use your **maze_to_graph** function and **depth-first search** to solve the maze defined above.  A simple 'print' statement of the path your codes find and its length suffices.\n",
    "* The initial state is (1,1)\n",
    "* The goal state is (10,10)\n",
    "\n",
    "Then, use your **breadth-first search** function to solve the maze; provide the solution path and its length.\n",
    "\n",
    "If your codes are sufficiently general, the output from **maze_to_graph** should be suitable to be fed straight into your search routines."
   ]
  },
  {
   "cell_type": "code",
   "execution_count": 24,
   "metadata": {},
   "outputs": [
    {
     "name": "stdout",
     "output_type": "stream",
     "text": [
      "DFS Path: [(1, 1), (2, 1), (3, 1), (4, 1), (5, 1), (6, 1), (7, 1), (8, 1), (9, 1), (10, 1), (10, 2), (10, 3), (9, 3), (8, 3), (7, 3), (6, 3), (5, 3), (4, 3), (3, 3), (3, 4), (3, 5), (4, 5), (5, 5), (6, 5), (7, 5), (8, 5), (9, 5), (10, 5), (10, 6), (10, 7), (10, 8), (9, 8), (8, 8), (7, 8), (6, 8), (6, 9), (6, 10), (7, 10), (8, 10), (9, 10), (10, 10)]\n",
      "DFS length: 41\n",
      "BFS Path: [(1, 1), (1, 2), (1, 3), (1, 4), (1, 5), (1, 6), (2, 6), (3, 6), (3, 5), (4, 5), (5, 5), (6, 5), (7, 5), (8, 5), (9, 5), (10, 5), (10, 6), (10, 7), (10, 8), (9, 8), (8, 8), (7, 8), (6, 8), (6, 9), (6, 10), (7, 10), (8, 10), (9, 10), (10, 10)]\n",
      "BFS length: 29\n"
     ]
    }
   ],
   "source": [
    "maze_graph = maze_to_graph(maze)\n",
    "depth_path = depth_first((1,1), (10,10), maze_graph, False)\n",
    "breadth_path = breadth_first((1,1), (10,10), maze_graph, False)\n",
    "print('DFS Path:', depth_path)\n",
    "print('DFS length:', len(depth_path))\n",
    "print('BFS Path:', breadth_path)\n",
    "print('BFS length:', len(breadth_path))"
   ]
  },
  {
   "cell_type": "markdown",
   "metadata": {},
   "source": [
    "<a id='p3c'></a>\n",
    "### (4c)\n",
    "\n",
    "Write a function **plot_maze(maze, path)** that takes as input a binary `numpy` array **maze** (1s represent walls, 0s represent open space) and a solution **path**, and plots the two together.\n",
    "* **maze**: a maze represented as a binary `numpy` array, as above\n",
    "* **path**: a solution path found using your search algorithms above. **path** should be consistent with the output from the **path** function below in the helpers (a list of states).  You may find it useful to provide a default of `None` for **path**, so that you can use your function to just plot a maze that you haven't solved yet.\n",
    "\n",
    "Then, use your **plot_maze** function to plot the maze defined above, along with the solution path found by **depth-first search**.  You may optionally include the breatdh-first solution as well, but make sure it's clear which path was the depth-first path.\n",
    "\n",
    "\n",
    "<br>\n",
    "\n",
    "**Potentially useful:** \n",
    "\n",
    "[1] In the helpers, you will notice that there are two packages imported:\n",
    "  * `import matplotlib.pyplot as plt`\n",
    "  * `from matplotlib import colors`\n",
    "\n",
    "`pyplot` and `colors` may be potentially useful to you for generating a pretty plot and generating a colormap for your walls/open spaces in the maze, respectively.  You do not need to use them, but I wanted to provide this nudge for folks who maybe have not done much/any plotting in Python before.\n",
    "\n",
    "[2] Also, [Color Oracle](http://colororacle.org/) is a useful utility for making colorblind-friendly plots. If you ever plan to show another human being a figure that you have generated, this is nice practice. Check it out!"
   ]
  },
  {
   "cell_type": "code",
   "execution_count": 25,
   "metadata": {},
   "outputs": [],
   "source": [
    "def plot_maze(maze, path):\n",
    "    # take everything from the path and set it's maze value to 2 so it plots it in a different color\n",
    "    for cord in path:\n",
    "        maze[cord[1]][cord[0]] = 2\n",
    "    # the colors for our plot\n",
    "    # wow, being colorblind sucks, it took forever to find something that worked\n",
    "    cmap = colors.ListedColormap(['Cyan', 'Black', 'Magenta'])\n",
    "    # I hated that if the path was empty then the background was red so fixed\n",
    "    if len(path) == 0:\n",
    "        cmap = colors.ListedColormap(['Cyan', 'Black'])\n",
    "    # the plots size\n",
    "    plt.figure(figsize=(6,6))\n",
    "    # plot the maze\n",
    "    plt.pcolor(maze[::], cmap=cmap, edgecolors='k', linewidths=2)\n",
    "    # actually show it\n",
    "    plt.show()"
   ]
  },
  {
   "cell_type": "code",
   "execution_count": 26,
   "metadata": {},
   "outputs": [
    {
     "name": "stdout",
     "output_type": "stream",
     "text": [
      "Normal Maze\n"
     ]
    },
    {
     "data": {
      "image/png": "[encoded data removed]",
      "text/plain": [
       "<Figure size 432x432 with 1 Axes>"
      ]
     },
     "metadata": {
      "needs_background": "light"
     },
     "output_type": "display_data"
    },
    {
     "name": "stdout",
     "output_type": "stream",
     "text": [
      "DFS Path\n"
     ]
    },
    {
     "data": {
      "image/png": "[encoded data removed]",
      "text/plain": [
       "<Figure size 432x432 with 1 Axes>"
      ]
     },
     "metadata": {
      "needs_background": "light"
     },
     "output_type": "display_data"
    },
    {
     "name": "stdout",
     "output_type": "stream",
     "text": [
      "BFS Path\n"
     ]
    },
    {
     "data": {
      "image/png": "[encoded data removed]",
      "text/plain": [
       "<Figure size 432x432 with 1 Axes>"
      ]
     },
     "metadata": {
      "needs_background": "light"
     },
     "output_type": "display_data"
    }
   ],
   "source": [
    "print('Normal Maze')\n",
    "plot_maze(maze.copy(), [])\n",
    "\n",
    "print('DFS Path')\n",
    "plot_maze(maze.copy(), depth_path)\n",
    "\n",
    "print('BFS Path')\n",
    "plot_maze(maze.copy(), breadth_path)\n",
    "# AH, finally done on iteration 286"
   ]
  },
  {
   "cell_type": "markdown",
   "metadata": {},
   "source": []
  }
 ],
 "metadata": {
  "kernelspec": {
   "display_name": "Python 3",
   "language": "python",
   "name": "python3"
  },
  "language_info": {
   "codemirror_mode": {
    "name": "ipython",
    "version": 3
   },
   "file_extension": ".py",
   "mimetype": "text/x-python",
   "name": "python",
   "nbconvert_exporter": "python",
   "pygments_lexer": "ipython3",
   "version": "3.8.3"
  }
 },
 "nbformat": 4,
 "nbformat_minor": 2
}
