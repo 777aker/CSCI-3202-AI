{
 "cells": [
  {
   "cell_type": "markdown",
   "metadata": {},
   "source": [
    "# CSCI 3202, Spring 2020\n",
    "\n",
    "# 17 February 2020\n",
    "\n",
    "# In-class notebook:  Genetic Algorithms"
   ]
  },
  {
   "cell_type": "markdown",
   "metadata": {},
   "source": [
    "Before we begin, let's load a few packages that we might find useful."
   ]
  },
  {
   "cell_type": "code",
   "execution_count": 1,
   "metadata": {},
   "outputs": [],
   "source": [
    "import numpy as np\n",
    "import matplotlib.pyplot as plt"
   ]
  },
  {
   "cell_type": "markdown",
   "metadata": {},
   "source": [
    "<br>\n",
    "\n",
    "\n",
    "## Maximizing some objective delight\n",
    "\n",
    "Suppose we are packing a lunch a trying to decide what to bring along.  There are four food options in front of us:\n",
    "1. an apple,\n",
    "2. a peanut butter and jelly sandwich,\n",
    "3. a cookie, and\n",
    "4. some gravel.\n",
    "\n",
    "Now we aren't very food-savvy, but we are algorithm-savvy, so we decide to use a ***genetic algorithm*** to decide which of these food items we should pack for lunch.\n",
    "\n",
    "We can represent the `state` of our lunch as a length 4 bit-string.  For example, `state=[1,1,0,1]` represents a lunch that includes an apple, a PB&J, and some gravel, but no cookie. Yum!\n",
    "\n",
    "The first step will be to define some objective function to maximize. Let's call this our `delight` with the `state` of our lunch, if we eat all of the items in the lunch.  I can only speak for myself, but the apple will delight me a bit, the PB&J will delight me a little more than the apple, and the cookie will delight me the most of all! But eating that gravel will **not** delight me. In fact, it will reduce my total delight by a substantial amount."
   ]
  },
  {
   "cell_type": "code",
   "execution_count": 2,
   "metadata": {},
   "outputs": [],
   "source": [
    "def delight(state):\n",
    "    # objective function here\n",
    "    goodness = 6\n",
    "    goodness += 1*state[0] #apple\n",
    "    goodness += 2*state[1] #pb&j\n",
    "    goodness += 4*state[2] #cookie\n",
    "    goodness -= 5*state[3] #gravel\n",
    "    return goodness"
   ]
  },
  {
   "cell_type": "markdown",
   "metadata": {},
   "source": [
    "Let's initialize our genetic algorithm population with each of the four lunches possible by bringing only a single item."
   ]
  },
  {
   "cell_type": "code",
   "execution_count": 3,
   "metadata": {},
   "outputs": [],
   "source": [
    "initial_population = [[1,0,0,0],[0,1,0,0],[0,0,1,0],[0,0,0,1]]"
   ]
  },
  {
   "cell_type": "markdown",
   "metadata": {},
   "source": [
    "... And define our class structure to solve this `problem`:"
   ]
  },
  {
   "cell_type": "code",
   "execution_count": 5,
   "metadata": {},
   "outputs": [],
   "source": [
    "class problem:\n",
    "    \n",
    "    def __init__(self, initial_population, objective_function, mutation_probability, fitness_goal):\n",
    "        '''\n",
    "        initial_population = list of lists; each sub-list is a dna string for a population member\n",
    "        objective_function = objective function to maximize\n",
    "        mutation_probability = probability that any given child has a mutation\n",
    "        fitness_goal = fitness goal to achieve (stopping criterion, once member reaches this)\n",
    "        '''\n",
    "        self.population = initial_population\n",
    "        self.initial_population = initial_population\n",
    "        self.objective_function = objective_function\n",
    "        self.p_mutate = mutation_probability\n",
    "        self.n_pop = len(initial_population)\n",
    "        self.n_dna = len(initial_population[0]) # taking the # of properties of one member\n",
    "        self.fitness_goal = fitness_goal\n",
    "        \n",
    "    def fitness(self):\n",
    "        '''\n",
    "        calculate each population member's probability of being selected for\n",
    "        reproduction based on performance on objective function\n",
    "        '''\n",
    "        # calculate fitness ('delight') per member:\n",
    "        performance = []\n",
    "        for k in range(self.n_pop): # index for each member of pop\n",
    "            # add to the list each member's performance, kth member's performance\n",
    "            performance.append(self.objective_function(self.population[k]))\n",
    "            \n",
    "        # now we want prob measure, just needs to somehow pick\n",
    "        # too 50 of %\n",
    "        totalperf = sum(performance)\n",
    "        p_reproduce = [perf/totalperf for perf in performance]\n",
    "        # payoff: these sum to one this way! if performance > 0, can just normalize.\n",
    "        # this makes this a valid pmf! can sample pmfs really easyily\n",
    "        return p_reproduce\n",
    "        \n",
    "        \n",
    "    def reproduce(self, parent1, parent2):\n",
    "        '''\n",
    "        decide where to make the split in the \"dna\" strands and put one part\n",
    "        of parent 1 dna with other part of parent 2 dna to make a child\n",
    "        '''\n",
    "        # how do we actually pull a piece of one parent and a piece of another\n",
    "        splitpoint = np.random.randomint(low=1, high=self.n_dna)\n",
    "        child = parent1[:splitpoint] + parent2[splitpoint:]\n",
    "        \n",
    "        return child\n",
    "\n",
    "    def mutate(self, child):\n",
    "        '''\n",
    "        randomly choose a gene for mutation\n",
    "        '''\n",
    "        gene = np.random.randint(low=0, high=self.n_dna)\n",
    "        \n",
    "        if child[gene] == 0:\n",
    "            child[gene] = 1\n",
    "        elif child[gene] == 1:\n",
    "            child[gene] = 0\n",
    "            \n",
    "        return child\n",
    "    "
   ]
  },
  {
   "cell_type": "markdown",
   "metadata": {},
   "source": [
    "And lastly, we need to turn our genetic algorithm code into actual code!"
   ]
  },
  {
   "cell_type": "code",
   "execution_count": 6,
   "metadata": {},
   "outputs": [],
   "source": [
    "# Pseudocode\n",
    "    \n",
    "#def genetic_algorithm(problem, some number of generations):\n",
    "def genetic_algorithm(problem, n_iter):\n",
    "    #for some number of generations:\n",
    "    for t in range(n_iter):\n",
    "        # Create a new generation by creating a same-sized population\n",
    "        # of children by:\n",
    "        new_population = []\n",
    "        for k in range(problem.n_pop):\n",
    "            # 1. select for reproduction\n",
    "            #    a) calculate each population member's fitness for reproduction\n",
    "            #    b) calculate probability of each member reproducing\n",
    "            #    c) select two mates from population based on reproductive probabilities\n",
    "            p_reproduce = problem.fitness()\n",
    "            # with probability given by the problem, it was pmf so we can do this\n",
    "            ran_parents = np.random.choice(range(0, problem.n_pop), size=2, p=p_reproduce)\n",
    "            par1, par2 = problem.population[ran_parents[0]], problem.population[ran_parents[1]]\n",
    "            # 2. mate the two individuals, creating a child in the new generation\n",
    "            #    a) pick where the parents' \"DNA\" is spliced together\n",
    "            \n",
    "            # 3. child has a gene mutated with some small probability\n",
    "                            \n",
    "        # Check whether any member satisfies the fitness goal\n",
    "        # a) If yes, return that member and exit\n",
    "        # b) If no, continue\n",
    "    \n",
    "    # If we've reached the end (# generations), return some failure warning\n",
    "\n"
   ]
  },
  {
   "cell_type": "code",
   "execution_count": null,
   "metadata": {},
   "outputs": [],
   "source": [
    "genetic_problem = problem(initial_population=initial_population, \n",
    "                          fitness_goal=13, \n",
    "                          mutation_probability=0.1, \n",
    "                          objective_function=delight)\n",
    "out = genetic_algorithm(genetic_problem, 200)\n",
    "print(out)"
   ]
  },
  {
   "cell_type": "code",
   "execution_count": null,
   "metadata": {},
   "outputs": [],
   "source": []
  }
 ],
 "metadata": {
  "kernelspec": {
   "display_name": "Python 3",
   "language": "python",
   "name": "python3"
  },
  "language_info": {
   "codemirror_mode": {
    "name": "ipython",
    "version": 3
   },
   "file_extension": ".py",
   "mimetype": "text/x-python",
   "name": "python",
   "nbconvert_exporter": "python",
   "pygments_lexer": "ipython3",
   "version": "3.8.3"
  }
 },
 "nbformat": 4,
 "nbformat_minor": 2
}
