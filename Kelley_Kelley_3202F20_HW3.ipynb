{
 "cells": [
  {
   "cell_type": "markdown",
   "metadata": {},
   "source": [
    "## <a id='top'></a>\n",
    "\n",
    "# CSCI 3202, Fall 2020\n",
    "# Assignment 2\n",
    "# Due: Monday 16 November 2020 by 11:59 PM\n",
    "\n",
    "<br> \n",
    "\n",
    "### Your name: Kelley Kelley\n",
    "\n",
    "<br> "
   ]
  },
  {
   "cell_type": "code",
   "execution_count": 1,
   "metadata": {},
   "outputs": [],
   "source": [
    "import numpy as np\n",
    "import matplotlib.pyplot as plt\n",
    "from scipy import stats\n",
    "import scipy.integrate as integrate\n",
    "import unittest\n",
    "# since PDF uses isclose I'm going to import it\n",
    "from math import isclose"
   ]
  },
  {
   "cell_type": "markdown",
   "metadata": {},
   "source": [
    "\n",
    "## Problem 1:  EVIU and EVPI\n",
    "\n",
    "Suppose we have an overwhelming sense of exam déjà vu, and we're going to catch the Buff Bus again.  We want to decide at what time $d$ to go wait for it.  We decide to use the the linear loss function \n",
    "\n",
    "$$L(d,x)=\\begin{cases} \n",
    "\t2(x-d) & x\\geq d \\\\\n",
    "\t4(d-x) & x <d\n",
    "    \t\\end{cases}$$.\n",
    "        \n",
    "As in the exam, we model the Buff Bus arrival times as an exponential random variable $X$ that arrives on average once per hour, so they have probability density function of $f(x)=e^{-x}$ for $x>0$ (note: this has mean of $E_X[x]=1$).\n",
    "\n",
    "The result from the exam was that the *expected loss* of the decision $d$ was:\n",
    "$$E_X[L(d,x)] = \\int_0^d 4(d-x)e^{-x}\\, dx + \\int_d^\\infty 2(x-d)e^{-x}\\, dx$$\n",
    "\n",
    "...we maybe tried to avoid doing that integral and reasoned through it, because often such an integral is messy and may require numerical methods.\n",
    "\n",
    "\n",
    "### (1a)  A Loss function:\n",
    "\n",
    "Create a `ExpectedLoss` object or function that takes as input 3 arguments: \n",
    "    - a decision $d$\n",
    "    - a loss function $L(d,x)$\n",
    "    - a probability density $f(x)$\n",
    "\n",
    "and returns the value of $$E_X[L(d,x)]=\\int_{-\\infty}^\\infty L(d,x) f(x) \\, dx$$.\n",
    "\n",
    "Inside your function, you can and should use the scipy.integrate function with documentation: \n",
    "https://docs.scipy.org/doc/scipy/reference/tutorial/integrate.html.\n",
    "\n"
   ]
  },
  {
   "cell_type": "code",
   "execution_count": 2,
   "metadata": {},
   "outputs": [],
   "source": [
    "def ExpectedLoss(decision, loss_function, prob_density):\n",
    "    f = lambda x: loss_function(x, decision) * prob_density(x)\n",
    "    # so you said from -inf to inf but that makes no sense in this problem and won't work\n",
    "    # bc constantly spitting out nan, so I'm doing 0 instead bc that's what we want even and\n",
    "    # having - makes no sense\n",
    "    value1, error1 = integrate.quad(f, 0, decision)\n",
    "    value2, error2 = integrate.quad(f, decision, float('inf'))\n",
    "    return (value1 + value2)"
   ]
  },
  {
   "cell_type": "markdown",
   "metadata": {},
   "source": [
    "## (1b) A quick check:\n",
    "Double check that your integrate code is working well on the infinite support of the exponential random variable.  Check that you in fact get $$E[X]=\\int_0^\\infty e^{-x} \\, dx=1$$ from your usage of `integrate` above."
   ]
  },
  {
   "cell_type": "code",
   "execution_count": 3,
   "metadata": {},
   "outputs": [
    {
     "name": "stdout",
     "output_type": "stream",
     "text": [
      "value: 1.0000000000000002 , error: 5.842606996763696e-11\n"
     ]
    }
   ],
   "source": [
    "def expon(x):\n",
    "    return np.exp(-x)\n",
    "\n",
    "value, error = integrate.quad(expon, 0, np.inf)\n",
    "print('value:',value,', error:',error)\n",
    "\n",
    "def testing(x, d):\n",
    "    return np.exp(-x)*d\n",
    "value, error = integrate.quad(testing, 0, np.inf, args=(2))\n",
    "#print(value)"
   ]
  },
  {
   "cell_type": "markdown",
   "metadata": {},
   "source": [
    "## (1c) Scoring Decisions:\n",
    "Our goal is typically to compare the losses of 3 decision types:\n",
    " - the decision made \"ignoring uncertainty,\" using $d=E[X]$\n",
    " - the decision made with \"perfect information\", using $d=x$\n",
    " - the decision made with uncertainty to minimize loss, the Bayes' decision.\n",
    " \n",
    "1. Use your function in (1a) to compute the expected loss when ignoring uncertainty.\n",
    "\n",
    "2. Use your function in (1a) or reason to compute the expected loss with perfect information.\n",
    "\n",
    "3. Use your function in (1a) to *plot* the expected loss for a fine grid (`linspace`) of $d$ values from 0 to 10.  Given this plot, visually estimate the optimal decision $d$ and it's expected loss."
   ]
  },
  {
   "cell_type": "code",
   "execution_count": 4,
   "metadata": {},
   "outputs": [
    {
     "name": "stdout",
     "output_type": "stream",
     "text": [
      "Loss ignoring uncertainty =  2.207276647028654\n",
      "Loss with perfect information =  0.0\n"
     ]
    },
    {
     "data": {
      "image/png": "[encoded data removed]",
      "text/plain": [
       "<Figure size 432x288 with 1 Axes>"
      ]
     },
     "metadata": {
      "needs_background": "light"
     },
     "output_type": "display_data"
    },
    {
     "data": {
      "image/png": "[encoded data removed]",
      "text/plain": [
       "<Figure size 432x288 with 1 Axes>"
      ]
     },
     "metadata": {
      "needs_background": "light"
     },
     "output_type": "display_data"
    }
   ],
   "source": [
    "def loss(x, d):\n",
    "    if x < d:\n",
    "        return 4.0*(d-x)\n",
    "    else:\n",
    "        return 2.0*(x-d)\n",
    "\n",
    "def loss_perfect(x, d):\n",
    "    return 0\n",
    "\n",
    "value = ExpectedLoss(1, loss, expon)\n",
    "print('Loss ignoring uncertainty = ', value)\n",
    "value = ExpectedLoss(1, loss_perfect, expon)\n",
    "print('Loss with perfect information = ', value) # as expected, I feel like I really don't get the point of perfect information loss\n",
    "# isn't it always 0? what's the point of even having it then? \n",
    "values = []\n",
    "for i in range(0, 11):\n",
    "    values.append(ExpectedLoss(i, loss, expon))\n",
    "\n",
    "plt.plot(values)\n",
    "plt.xlabel('Decision d')\n",
    "plt.ylabel('Loss')\n",
    "plt.title('Expected Loss for decisions 0-10')\n",
    "plt.show()\n",
    "# the value is kind of hard to see on this plot so\n",
    "values = []\n",
    "for i in range(0, 16):\n",
    "    values.append(ExpectedLoss(i/10, loss, expon))\n",
    "    \n",
    "plt.plot([0, 0.1, 0.2, 0.3, 0.4, 0.5, 0.6, 0.7, 0.8, 0.9, 1.0, 1.1, 1.2, 1.3, 1.4, 1.5], values)\n",
    "plt.xlabel('Decision d')\n",
    "plt.ylabel('Loss')\n",
    "plt.title('Expected Loss for smaller decisions 0-1.5')\n",
    "plt.show()\n",
    "# based on the first graph it looked to be a little short of 1 hour so 0.8 ish but now that I can see it much more clearly\n",
    "# based on plot 2 it is about 0.4 hours"
   ]
  },
  {
   "cell_type": "markdown",
   "metadata": {},
   "source": [
    "## (1d) Optimizing Decisions:\n",
    "Since the Bayes' decision should be the minimum of the function in (1a), we can use another numeric method in Python to find it exactly!  Check out `scipy.optimize` https://docs.scipy.org/doc/scipy/reference/tutorial/optimize.html and use it to find the Bayes' decision.\n",
    "\n",
    "For convenience, you may restructure your code in (1a) to get the loss function while only $d$ as taken as an input."
   ]
  },
  {
   "cell_type": "code",
   "execution_count": 5,
   "metadata": {},
   "outputs": [
    {
     "name": "stdout",
     "output_type": "stream",
     "text": [
      "Bayes Decision that minimizes loss = [0.40546505]\n"
     ]
    }
   ],
   "source": [
    "# I'm going to import scipy.optimize bc obviously we can use it\n",
    "from scipy.optimize import minimize\n",
    "# new loss function that only takes in d\n",
    "def newloss(d):\n",
    "    return ExpectedLoss(d, loss, expon)\n",
    "\n",
    "print('Bayes Decision that minimizes loss =', minimize(newloss, x0=1).x)\n"
   ]
  },
  {
   "cell_type": "markdown",
   "metadata": {},
   "source": [
    "## (1e) Bigger Losses\n",
    "$$L_l(d,x)=\\begin{cases} \n",
    "\t20(d-x) & x \\leq d \\\\\n",
    "\t200+20(d-x) & x> d \\\\\t\t\n",
    "\t\\end{cases}$$.\n",
    "    \n",
    "Consider instead the loss function above, which contains a large jump at $x=d$.  Use your `ExpectedLoss` and/or `optimize` routines to find the Bayes' decision for the bus-waiting problem in this case, where a large amount of utility is lost as soon as $x>d$ (or we miss the bus).  Does your result here seem intuitive, given the Bayes' decision in parts (1c/1d)?"
   ]
  },
  {
   "cell_type": "code",
   "execution_count": 6,
   "metadata": {},
   "outputs": [
    {
     "name": "stdout",
     "output_type": "stream",
     "text": [
      "Bayes Decision that minimizes loss = [2.48490667]\n"
     ]
    },
    {
     "data": {
      "image/png": "[encoded data removed]",
      "text/plain": [
       "<Figure size 432x288 with 1 Axes>"
      ]
     },
     "metadata": {
      "needs_background": "light"
     },
     "output_type": "display_data"
    }
   ],
   "source": [
    "def loss(x, d):\n",
    "    if x < d:\n",
    "        return 20.0*(d-x)\n",
    "    else:\n",
    "        return 200.0+20*(x-d)\n",
    "    \n",
    "# now the decision should be even sooner since our loss is huge as soon as the bus arrives so we definetly don't want to ever miss it\n",
    "def newloss(d):\n",
    "    return ExpectedLoss(d, loss, expon)\n",
    "\n",
    "print('Bayes Decision that minimizes loss =', minimize(newloss, x0=1).x)\n",
    "values = []\n",
    "for i in range(0, 11):\n",
    "    values.append(ExpectedLoss(i, loss, expon))\n",
    "\n",
    "plt.plot(values)\n",
    "plt.xlabel('Decision d')\n",
    "plt.ylabel('Loss')\n",
    "plt.title('Expected Loss for decisions 0-10')\n",
    "plt.show()\n",
    "# ok, originally I said what I said above, but now I realize x > d means our decision was before the bus arrived, which means we really\n",
    "# hate waiting on the bus so it makes sense our loss is now after the bus arrives. I think that's an error in the explanation\n",
    "# above. x > d means our decision came before the random variable x where x is when the bus arrives, this means d\n",
    "# was before bus, therefore based on the loss function above, it sucks to be before the bus a lot more than right after\n",
    "# which makes no sense but poses this interesting graph and makes an interesting switch for dbayes bc now we want to arrive\n",
    "# after the bus which is kind of funny"
   ]
  },
  {
   "cell_type": "markdown",
   "metadata": {},
   "source": [
    "\n",
    "## Problem 2:  Bayesian network to model heart disease\n",
    "\n",
    "The following Bayesian network is based loosely on a study that examined heart disease risk factors in 167 elderly individuals in South Carolina.  Note that this figure uses Y and N to represent Yes and No, whereas in class we used the equivalent T and F to represent True and False Boolean values.\n",
    "\n",
    "<img src=\"http://www.cs.colorado.edu/~tonyewong/home/resources/hw05_bayesnet_heartdisease.png\" style=\"width: 650px;\"/>"
   ]
  },
  {
   "cell_type": "markdown",
   "metadata": {},
   "source": [
    "<a id='p1a'></a>\n",
    "\n",
    "### (2a) \n",
    "\n",
    "Create a `BayesNet` object to model this.  Below are the codes for the (conditional) probability `P` function and `BayesNode` class as well, that we used in class on Monday (9 March) to represent the variable nodes and calculate probabilities. You can code this however you want, subject to the following constraints:\n",
    "1. the nodes are represented using the `BayesNode` class and can work with the `P` function for probabilities,\n",
    "1. your `BayesNet` structure keeps track of which nodes are in the Bayes net, as well as\n",
    "1. which nodes are the parents/children of which other nodes.\n",
    "\n",
    "Some *suggested* skeleton codes for a class structure are given. You are free and encouraged to use the code from our in-class notebooks on Bayes Nets and Markov Models. The point of this exercise is to make sure you understand the example from class. The suggestions for methods to implement are in view of the fact that we will need to calculate some probabilities, which is going to require us to `find_node`s and `find_values` that nodes can take on."
   ]
  },
  {
   "cell_type": "code",
   "execution_count": 7,
   "metadata": {},
   "outputs": [],
   "source": [
    "## For the sake of brevity...\n",
    "T, F = True, False\n",
    "\n",
    "## From class:\n",
    "def P(var, value, evidence={}):\n",
    "    '''The probability distribution for P(var | evidence), \n",
    "    when all parent variables are known (in evidence)'''\n",
    "    if len(var.parents)==1:\n",
    "        # only one parent\n",
    "        row = evidence[var.parents[0]]\n",
    "    else:\n",
    "        # multiple parents\n",
    "        row = tuple(evidence[parent] for parent in var.parents)\n",
    "    return var.cpt[row] if value else 1-var.cpt[row]\n",
    "\n",
    "## Also from class:\n",
    "class BayesNode:\n",
    "    \n",
    "    def __init__(self, name, parents, values, cpt):\n",
    "        if isinstance(parents, str):\n",
    "            parents = parents.split()\n",
    "            \n",
    "        if len(parents)==0:\n",
    "            # if no parents, empty dict key for cpt\n",
    "            cpt = {(): cpt}\n",
    "        elif isinstance(cpt, dict):\n",
    "            # if there is only one parent, only one tuple argument\n",
    "            if cpt and isinstance(list(cpt.keys())[0], bool):\n",
    "                cpt = {(v): p for v, p in cpt.items()}\n",
    "\n",
    "        self.variable = name\n",
    "        self.parents = parents\n",
    "        self.cpt = cpt\n",
    "        self.values = values\n",
    "        self.children = []\n",
    "        \n",
    "    def __repr__(self):\n",
    "        return repr((self.variable, ' '.join(self.parents)))   \n",
    "    \n",
    "    def test(self):\n",
    "        string = str(self.variable) + \", \" + str(self.parents) + \", \" + str(self.children)\n",
    "        string1 = str(self.cpt)\n",
    "        string2 = str(self.values)\n",
    "        return [string, string1, string2]\n",
    "\n",
    "    \n",
    "##===============================================##\n",
    "## Suggested codes for a BayesNet class ##\n",
    "##===============================================##\n",
    "\n",
    "class BayesNet:\n",
    "    '''Bayesian network containing only boolean-variable nodes.'''\n",
    "\n",
    "    def __init__(self, nodes):\n",
    "        '''Initialize the Bayes net by adding each of the nodes,\n",
    "        which should be a list BayesNode class objects ordered\n",
    "        from parents to children (`top` to `bottom`, from causes\n",
    "        to effects)'''\n",
    "        \n",
    "        # your code goes here...\n",
    "        self.nodes = []\n",
    "        self.variables = []\n",
    "        for node in nodes:\n",
    "            self.add(node)\n",
    "\n",
    "                \n",
    "    def add(self, node):\n",
    "        '''Add a new BayesNode to the BayesNet. The parents should all\n",
    "        already be in the net, and the variable itself should not be'''\n",
    "        assert node.variable not in self.variables\n",
    "        assert all((parent in self.variables) for parent in node.parents)\n",
    "        \n",
    "        # your code goes here...\n",
    "        self.nodes.append(node)\n",
    "        self.variables.append(node.variable)\n",
    "        #print(node.test())\n",
    "        for parent in node.parents:\n",
    "            #print(parent.test())\n",
    "            self.find_node(parent).children.append(node.variable)\n",
    "        #print(node.test())\n",
    "\n",
    "            \n",
    "    def find_node(self, var):\n",
    "        '''Find and return the BayesNode in the net with name `var`'''\n",
    "        \n",
    "        # your code goes here...\n",
    "        for node in self.nodes:\n",
    "            if node.variable == var:\n",
    "                return node\n",
    "        raise Exception(\"Node {} not found\".format(var))\n",
    "\n",
    "        \n",
    "    def find_values(self, var):\n",
    "        '''Return the set of possible values for variable `var`'''\n",
    "        \n",
    "        # your code goes here...\n",
    "        node = self.find_node(var)\n",
    "        return node.values\n",
    "\n",
    "\n",
    "    \n",
    "    def __repr__(self):\n",
    "        return 'BayesNet({})'.format(self.nodes)\n",
    "    \n",
    "    def test(self):\n",
    "        node_test = []\n",
    "        for node in self.nodes:\n",
    "            string = 'Node:' + str(node.variable) + ', Parents:' + str(node.parents) + ', cpt:' + str(node.cpt) + ', values:' + str(node.values) + ', Children:' + str(node.children)\n",
    "            node_test.append(string)\n",
    "        return node_test\n",
    "    "
   ]
  },
  {
   "cell_type": "code",
   "execution_count": 8,
   "metadata": {},
   "outputs": [
    {
     "data": {
      "text/plain": [
       "'\\nfor line in Sm.test():\\n    print(line)\\n \\nfor line in ME.test():\\n    print(line)\\n \\nfor line in HBP.test():\\n    print(line)\\n \\nfor line in Ath.test():\\n    print(line)\\n \\nfor line in FH.test():\\n    print(line)\\n    \\nfor line in HD.test():\\n    print(line)\\n\\nfor line in Ang.test():\\n    print(line)\\n    \\nfor line in Rapid.test():\\n    print(line)\\n    \\n'"
      ]
     },
     "execution_count": 8,
     "metadata": {},
     "output_type": "execute_result"
    }
   ],
   "source": [
    "# Create a Bayes net with those nodes and connections\n",
    "Y, N = True, False\n",
    "Sm = BayesNode('Sm', '', [Y,N], 0.20)\n",
    "ME = BayesNode('ME', '', [Y,N], 0.50)\n",
    "HBP = BayesNode('HBP', ['Sm','ME'], [Y,N], {(Y,Y): 0.60, (Y,N): 0.72, (N,Y): 0.33, (N,N): 0.51})\n",
    "Ath = BayesNode('Ath', '', [Y,N], 0.53)\n",
    "FH = BayesNode('FH', '', [Y,N], 0.15)\n",
    "HD = BayesNode('HD', ['HBP','Ath','FH'], [Y,N], {\n",
    "    (Y,Y,Y): 0.92,\n",
    "    (Y,Y,N): 0.91,\n",
    "    (Y,N,Y): 0.81,\n",
    "    (Y,N,N): 0.77,\n",
    "    (N,Y,Y): 0.75,\n",
    "    (N,Y,N): 0.69,\n",
    "    (N,N,Y): 0.38,\n",
    "    (N,N,N): 0.23\n",
    "})\n",
    "Ang = BayesNode('Ang', 'HD', [Y,N], {T: 0.85, F: 0.40})\n",
    "Rapid = BayesNode('Rapid', 'HD', [Y,N], {T: 0.99, F: 0.30})\n",
    "Model_heart_disease_net = BayesNet([Sm, ME, HBP, Ath, FH, HD, Ang, Rapid])\n",
    "#Model_heart_disease_net.__repr__()\n",
    "#testing = Model_heart_disease_net.test()\n",
    "#for line in testing:\n",
    "#    print(line)\n",
    "\n",
    "'''\n",
    "for line in Sm.test():\n",
    "    print(line)\n",
    " \n",
    "for line in ME.test():\n",
    "    print(line)\n",
    " \n",
    "for line in HBP.test():\n",
    "    print(line)\n",
    " \n",
    "for line in Ath.test():\n",
    "    print(line)\n",
    " \n",
    "for line in FH.test():\n",
    "    print(line)\n",
    "    \n",
    "for line in HD.test():\n",
    "    print(line)\n",
    "\n",
    "for line in Ang.test():\n",
    "    print(line)\n",
    "    \n",
    "for line in Rapid.test():\n",
    "    print(line)\n",
    "    \n",
    "'''"
   ]
  },
  {
   "cell_type": "code",
   "execution_count": 9,
   "metadata": {},
   "outputs": [],
   "source": [
    "class Tests_Problem2(unittest.TestCase):\n",
    "    def setUp(self):\n",
    "        self.p1 = BayesNode('p1', '', [T,F], 0.3)\n",
    "        self.p2 = BayesNode('p2', '', [T,F], 0.6)\n",
    "        self.c  = BayesNode('c', ['p1', 'p2'], [T,F], {(T,T):0.1, (T,F):0.2, (F,T):0.3, (F,F):0.4})\n",
    "    def test_onenode(self):\n",
    "        self.assertEqual(P(self.p1, T), 0.3)\n",
    "    def test_twonode(self):\n",
    "        self.assertEqual(P(self.c, F, {'p1':T, 'p2':F}), 0.8)"
   ]
  },
  {
   "cell_type": "code",
   "execution_count": 10,
   "metadata": {},
   "outputs": [
    {
     "name": "stderr",
     "output_type": "stream",
     "text": [
      "..\n",
      "----------------------------------------------------------------------\n",
      "Ran 2 tests in 0.001s\n",
      "\n",
      "OK\n"
     ]
    },
    {
     "data": {
      "text/plain": [
       "<unittest.runner.TextTestResult run=2 errors=0 failures=0>"
      ]
     },
     "execution_count": 10,
     "metadata": {},
     "output_type": "execute_result"
    }
   ],
   "source": [
    "tests_to_run = unittest.TestSuite()\n",
    "tests_to_run.addTest(Tests_Problem2(\"test_onenode\"))\n",
    "tests_to_run.addTest(Tests_Problem2(\"test_twonode\"))\n",
    "unittest.TextTestRunner().run(tests_to_run)"
   ]
  },
  {
   "cell_type": "markdown",
   "metadata": {},
   "source": [
    "\n",
    "### (2b)\n",
    "\n",
    "Craft a function `get_prob(X, e, bn)` to return the **normalized** probability distribution of variable `X` in Bayes net `bn`, given the evidence `e`.  That is, return $P(X \\mid e)$. The arguments are:\n",
    "* `X` is some representation of the variable you are querying the probability distribution of. Either a string (the variable name from the `BayesNode` or a `BayesNode` object itself are good options.\n",
    "* `e` is some representation of the evidence your probability is conditioned on. When given an empty argument (or `None`) for `e`, `get_prob` should return the marginal distribution $P(X)$.\n",
    "* `bn` is your `BayesNet` object.\n",
    "\n",
    "You may do this using the `enumeration` algorithm from class (pseudocode is in the book), or by brute force (i.e., use a few `for` loops). Either way, you should be using your `BayesNet` object to keep track of all the nodes and relationships between nodes so your `get_prob` function knows these things.\n",
    "\n",
    "Suggest implementation is below, where we use the `PDF_discrete` class and its associated functions as we did in the Bayes Nets in class notebook."
   ]
  },
  {
   "cell_type": "code",
   "execution_count": 11,
   "metadata": {},
   "outputs": [],
   "source": [
    "# Solution:\n",
    "\n",
    "class PDF_discrete:\n",
    "    '''Define a discrete probability distribution function.'''\n",
    "\n",
    "    def __init__(self, varname='?', freqs=None):\n",
    "        '''Create a dictionary of values - frequency pairs,\n",
    "        then normalize the distribution to sum to 1.'''\n",
    "        self.prob = {}\n",
    "        self.varname = varname\n",
    "        self.values = []\n",
    "        if freqs:\n",
    "            for (v, p) in freqs.items():\n",
    "                self[v] = p\n",
    "        self.normalize()\n",
    "\n",
    "    def __getitem__(self, value):\n",
    "        '''Given a value, return P[value]'''\n",
    "        try:\n",
    "            return self.prob[value]\n",
    "        except KeyError:\n",
    "            return 0\n",
    "\n",
    "    def __setitem__(self, value, p):\n",
    "        '''Set P[value] = p, input argument if '''\n",
    "        if value not in self.values:\n",
    "            self.values.append(value)\n",
    "        self.prob[value] = p\n",
    "\n",
    "    def normalize(self):\n",
    "        '''Normalize the probability distribution and return it.\n",
    "        If the sum of PDF values is 0, then return a 0'''\n",
    "        total = sum(self.prob.values())\n",
    "        if not isclose(total, 1.0):\n",
    "            for value in self.prob:\n",
    "                self.prob[value] /= total\n",
    "        return self\n",
    "    \n",
    "def extend(s, var, val):\n",
    "    \"\"\"Copy the substitution s and extend it by setting var to val; return copy.\"\"\"\n",
    "    s2 = s.copy()\n",
    "    s2[var] = val\n",
    "    return s2\n",
    "\n",
    "def get_prob(X, e, bn):\n",
    "    '''Return the conditional probability distribution of variable X\n",
    "    given evidence e, from BayesNet bn. [Figure 14.9]'''\n",
    "\n",
    "    # Your code here.\n",
    "    # P(X | e) = alpha P(X)P(e|X)\n",
    "    # don't have to worry about alpha bc normalizing instead\n",
    "    # P(e | X) = sum of possible parent values assuming X true, P(e | parents)\n",
    "    # which is handled by enumerate_all\n",
    "    Q = PDF_discrete(X)\n",
    "    for xi in bn.find_values(X):\n",
    "        Q[xi] = enumerate_all(bn.variables, extend(e, X, xi), bn)\n",
    "    return Q.normalize()\n",
    "\n",
    "def enumerate_all(variables, e, bn):\n",
    "    '''Return the sum of those entries in P(variables | e{others})\n",
    "    consistent with e, where P is the joint distribution represented\n",
    "    by bn, and e{others} means e restricted to bn's other variables\n",
    "    (the ones other than variables). Parents must precede children in variables.'''\n",
    "\n",
    "    # Your code here... or consult the in-class notebook for working example\n",
    "    # base case when we return bc did all the variables\n",
    "    if not variables:\n",
    "        return 1.0\n",
    "    # recursion, take out the first thing from the list and call enumerate_all on the rest\n",
    "    Y, rest = variables[0], variables[1:]\n",
    "    Ynode = bn.find_node(Y)\n",
    "    # if Y is in our evidence\n",
    "    if Y in e:\n",
    "        # multiply our Proabability call on the rest\n",
    "        return P(Ynode, e[Y], e) * enumerate_all(rest, e, bn)\n",
    "    else:\n",
    "        # sum up all our possibles which is also a sum of possibles so y in find_values to get all nodes to iterate over\n",
    "        return sum(P(Ynode, y, e) * enumerate_all(rest, extend(e, Y, y), bn)\n",
    "                  for y in bn.find_values(Y))"
   ]
  },
  {
   "cell_type": "markdown",
   "metadata": {},
   "source": [
    "### (2c)\n",
    "Use your `get_prob` function to calculate the following probabilities. Print them to the screen and compare to the original Bayes net figure given to make sure the output passes these \"unit tests\".\n",
    "\n",
    "1. The marginal probability of `Family History` is $P(FH=T)=0.15$\n",
    "2. The probability of *not* experiencing `Angina Pectoris`, given `Heart Disease` is observed, is $P(Ang=F \\mid HD=T)=1-0.85=0.15$\n",
    "3. The probability of `High Blood Pressure`, given a person does `Smoke and/or use Alcohol` but does not get `Moderate Exercise`, is $P(HBP=T \\mid Sm=T, ME=F)=0.72$\n",
    "4. The probability of an arbitrary individual having Heart Disease,  P(HD=T)P(HD=T)\n",
    "5. The probability that an individual does not have Heart Disease, given that Rapid Heartbeat was observed,  P(HD=F∣Rapid=T)P(HD=F∣Rapid=T)\n",
    "6. The probability that an individual is a `Smoker/Alcohol User` if they have `Heart Disease`, $P(Sm=T \\mid HD=T)$\n",
    "7. How would you expect the probability in 6. to change if you also know the individual has `High Blood Pressure`?  Verify your hypothesis by calculating the relevant probability."
   ]
  },
  {
   "cell_type": "code",
   "execution_count": 12,
   "metadata": {},
   "outputs": [
    {
     "name": "stdout",
     "output_type": "stream",
     "text": [
      "1: 0.15\n",
      "2: 0.1500000000000001\n",
      "3: 0.7199999999999999\n",
      "4: 0.65700256\n",
      "5: 0.9733649302785619\n",
      "6: 0.22096327904719273\n",
      "7: 0.282051282051282\n"
     ]
    }
   ],
   "source": [
    "bntest = Model_heart_disease_net\n",
    "one = get_prob('FH', {}, bntest)\n",
    "print('1:', one.prob[True])\n",
    "two = get_prob('Ang', {'HD': Y}, bntest)\n",
    "print('2:', two.prob[False])\n",
    "three = get_prob('HBP', {'Sm': Y, 'ME': F}, bntest)\n",
    "print('3:', three.prob[True])\n",
    "four = get_prob('HD', {}, bntest)\n",
    "print('4:', four.prob[True])\n",
    "five = get_prob('HD', {'Rapid': N}, bntest)\n",
    "print('5:', five.prob[False])\n",
    "six = get_prob('Sm', {'HD': Y}, bntest)\n",
    "print('6:', six.prob[True])\n",
    "# I would expect the probability to go up since you now know HBP and HBP is a child of Sm which means we have a more direct relation to\n",
    "# Sm than when we just had HD and according to our figure knowing HBP is True we can conclude that it's higher risk of HD\n",
    "seven = get_prob('Sm', {'HD': Y, 'HBP': Y}, bntest)\n",
    "print('7:', seven.prob[True])\n",
    "# my own tests\n",
    "#print(get_prob('HBP', {'Sm': Y, 'ME': N}, bntest).prob) #close enough to our table\n",
    "#print(get_prob('HD', {'Ath': Y, 'HBP': Y, 'FH': N}, bntest).prob)"
   ]
  },
  {
   "cell_type": "markdown",
   "metadata": {},
   "source": [
    "### (2d)\n",
    "Rather than exact calculations, we can also *simulate* on a Bayesian Network.  Simulate 10000 hypothetical elderly individuals from South Carolina on the given network.  Using logicals, compute the probabilities in numbers (6.) and (7.) of part (2c) and verify that they are approximately equivalent.\n",
    "\n",
    "No API is required here, but your final result should print the empirical (simulated) probabilities next to the exact theoretical results for these two outcomes from (2c)."
   ]
  },
  {
   "cell_type": "code",
   "execution_count": 13,
   "metadata": {},
   "outputs": [],
   "source": [
    "#Recommended simulation structure:\n",
    "#Set up same BayesNodes or Conditional Probability Tables as in (2a)\n",
    "Y, N = True, False\n",
    "Sm = BayesNode('Sm', '', [Y,N], 0.20)\n",
    "ME = BayesNode('ME', '', [Y,N], 0.50)\n",
    "HBP = BayesNode('HBP', ['Sm','ME'], [Y,N], {(Y,Y): 0.60, (Y,N): 0.72, (N,Y): 0.33, (N,N): 0.51})\n",
    "Ath = BayesNode('Ath', '', [Y,N], 0.53)\n",
    "FH = BayesNode('FH', '', [Y,N], 0.15)\n",
    "HD = BayesNode('HD', ['HBP','Ath','FH'], [Y,N], {\n",
    "    (Y,Y,Y): 0.92,\n",
    "    (Y,Y,N): 0.91,\n",
    "    (Y,N,Y): 0.81,\n",
    "    (Y,N,N): 0.77,\n",
    "    (N,Y,Y): 0.75,\n",
    "    (N,Y,N): 0.69,\n",
    "    (N,N,Y): 0.38,\n",
    "    (N,N,N): 0.23\n",
    "})\n",
    "Ang = BayesNode('Ang', 'HD', [Y,N], {T: 0.85, F: 0.40})\n",
    "Rapid = BayesNode('Rapid', 'HD', [Y,N], {T: 0.99, F: 0.30})\n",
    "# here is a list of our variables\n",
    "variable_list = [Sm, ME, HBP, Ath, FH, HD, Ang, Rapid]\n",
    "\n",
    "Model = BayesNet(variable_list)\n",
    "\n",
    "# tesing how to get prob and random select\n",
    "probability = get_prob('HD', {'Ath': Y, 'HBP': Y, 'FH': N}, Model).prob\n",
    "#print(probability)\n",
    "#print(list(probability.values()))\n",
    "#print(np.random.choice([Y, N], p=list(probability.values())))\n",
    "\n",
    "simulation = []\n",
    "\n",
    "#For 10000 samples...\n",
    "for i in range(0, 10000):\n",
    "    # this is our dictionary of evidence so far\n",
    "    e = {}\n",
    "    # they are in order of parents to children so cool\n",
    "    for node in variable_list:\n",
    "        probability = get_prob(node.variable, e, Model).prob\n",
    "        if np.random.choice([Y, N], p=list(probability.values())):\n",
    "            e[node.variable] = Y\n",
    "        else:\n",
    "            e[node.variable] = N\n",
    "    simulation.append(e)\n",
    "        \n",
    "#print(simulation)"
   ]
  },
  {
   "cell_type": "code",
   "execution_count": 14,
   "metadata": {},
   "outputs": [
    {
     "name": "stdout",
     "output_type": "stream",
     "text": [
      "6: 0.22564338235294118\n",
      "7: 0.2879170879676441\n",
      "1: 0.1501\n"
     ]
    }
   ],
   "source": [
    "# All of the times our given and evidence were true\n",
    "# divided by the number of times our evidence were true\n",
    "\n",
    "# problem six\n",
    "# all of the times Sm and HD were true / all the times HD was true\n",
    "numerator = 0\n",
    "denominator = 0\n",
    "for dictionary in simulation:\n",
    "    if dictionary['HD']:\n",
    "        denominator += 1\n",
    "        if dictionary['Sm']:\n",
    "            numerator += 1\n",
    "print('6:', numerator/denominator)\n",
    "\n",
    "# problem seven\n",
    "# all of the times Sm, HD, and HBP were true / all the times HD and HBP were true\n",
    "numerator = 0\n",
    "denominator = 0\n",
    "for dictionary in simulation:\n",
    "    if dictionary['HD'] and dictionary['HBP']:\n",
    "        denominator += 1\n",
    "        if dictionary['Sm']:\n",
    "            numerator += 1\n",
    "            \n",
    "print('7:', numerator/denominator)\n",
    "# those are darn close to my other values so yay\n",
    "# just in case more tests\n",
    "numerator = 0\n",
    "for dictionary in simulation:\n",
    "    if dictionary['FH']:\n",
    "        numerator += 1\n",
    "print('1:', numerator/len(simulation))"
   ]
  }
 ],
 "metadata": {
  "kernelspec": {
   "display_name": "Python 3",
   "language": "python",
   "name": "python3"
  },
  "language_info": {
   "codemirror_mode": {
    "name": "ipython",
    "version": 3
   },
   "file_extension": ".py",
   "mimetype": "text/x-python",
   "name": "python",
   "nbconvert_exporter": "python",
   "pygments_lexer": "ipython3",
   "version": "3.8.3"
  }
 },
 "nbformat": 4,
 "nbformat_minor": 2
}
